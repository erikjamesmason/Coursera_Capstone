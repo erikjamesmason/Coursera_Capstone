{
 "cells": [
  {
   "cell_type": "markdown",
   "metadata": {
    "toc": true
   },
   "source": [
    "<h1>Table of Contents<span class=\"tocSkip\"></span></h1>\n",
    "<div class=\"toc\"><ul class=\"toc-item\"><li><span><a href=\"#Findings\" data-toc-modified-id=\"Findings-1\">Findings</a></span></li><li><span><a href=\"#Retrieve-&amp;-clean-geo-data\" data-toc-modified-id=\"Retrieve-&amp;-clean-geo-data-2\">Retrieve &amp; clean geo data</a></span><ul class=\"toc-item\"><li><span><a href=\"#Scrape-into-dataframe\" data-toc-modified-id=\"Scrape-into-dataframe-2.1\">Scrape into dataframe</a></span></li><li><span><a href=\"#Remove-null-boroughs\" data-toc-modified-id=\"Remove-null-boroughs-2.2\">Remove null <code>borough</code>s</a></span></li><li><span><a href=\"#Replace-null-neighborhoods-with-borough\" data-toc-modified-id=\"Replace-null-neighborhoods-with-borough-2.3\">Replace null <code>neighborhood</code>s with <code>borough</code></a></span></li><li><span><a href=\"#Combine-neighborhoods-by-postcode\" data-toc-modified-id=\"Combine-neighborhoods-by-postcode-2.4\">Combine <code>neighborhood</code>s by <code>postcode</code></a></span></li><li><span><a href=\"#Get-geo-coordinates-of-each-postal-code\" data-toc-modified-id=\"Get-geo-coordinates-of-each-postal-code-2.5\">Get geo-coordinates of each postal code</a></span></li><li><span><a href=\"#Visualize-neighborhood-locations\" data-toc-modified-id=\"Visualize-neighborhood-locations-2.6\">Visualize neighborhood locations</a></span></li></ul></li><li><span><a href=\"#Retrieve-&amp;-clean-venue-data\" data-toc-modified-id=\"Retrieve-&amp;-clean-venue-data-3\">Retrieve &amp; clean venue data</a></span><ul class=\"toc-item\"><li><span><a href=\"#Pull-venues-from-foursquare-API\" data-toc-modified-id=\"Pull-venues-from-foursquare-API-3.1\">Pull venues from foursquare API</a></span></li></ul></li><li><span><a href=\"#EDA\" data-toc-modified-id=\"EDA-4\">EDA</a></span><ul class=\"toc-item\"><li><span><a href=\"#Category-sparsity\" data-toc-modified-id=\"Category-sparsity-4.1\">Category sparsity</a></span></li></ul></li><li><span><a href=\"#Modeling-&amp;-evaluation\" data-toc-modified-id=\"Modeling-&amp;-evaluation-5\">Modeling &amp; evaluation</a></span><ul class=\"toc-item\"><li><span><a href=\"#Category-grouping-at-level-2\" data-toc-modified-id=\"Category-grouping-at-level-2-5.1\">Category grouping at level 2</a></span><ul class=\"toc-item\"><li><span><a href=\"#k-means\" data-toc-modified-id=\"k-means-5.1.1\">k-means</a></span></li><li><span><a href=\"#DBSCAN\" data-toc-modified-id=\"DBSCAN-5.1.2\">DBSCAN</a></span></li></ul></li><li><span><a href=\"#Category-grouping-at-level-3\" data-toc-modified-id=\"Category-grouping-at-level-3-5.2\">Category grouping at level 3</a></span><ul class=\"toc-item\"><li><span><a href=\"#k-means\" data-toc-modified-id=\"k-means-5.2.1\">k-means</a></span></li><li><span><a href=\"#DBSCAN\" data-toc-modified-id=\"DBSCAN-5.2.2\">DBSCAN</a></span></li></ul></li><li><span><a href=\"#Category-grouping-at-level-1\" data-toc-modified-id=\"Category-grouping-at-level-1-5.3\">Category grouping at level 1</a></span><ul class=\"toc-item\"><li><span><a href=\"#k-means\" data-toc-modified-id=\"k-means-5.3.1\">k-means</a></span></li><li><span><a href=\"#DBSCAN\" data-toc-modified-id=\"DBSCAN-5.3.2\">DBSCAN</a></span></li></ul></li><li><span><a href=\"#Without-category-grouping\" data-toc-modified-id=\"Without-category-grouping-5.4\">Without category grouping</a></span><ul class=\"toc-item\"><li><span><a href=\"#k-means\" data-toc-modified-id=\"k-means-5.4.1\">k-means</a></span></li><li><span><a href=\"#DBSCAN\" data-toc-modified-id=\"DBSCAN-5.4.2\">DBSCAN</a></span></li></ul></li></ul></li></ul></div>"
   ]
  },
  {
   "cell_type": "markdown",
   "metadata": {},
   "source": [
    "# Coursera Applied Data Science Capstone Project\n",
    "**Week 3 - Segmenting and Clustering Neighborhoods in Toronto**"
   ]
  },
  {
   "cell_type": "code",
   "execution_count": 379,
   "metadata": {},
   "outputs": [],
   "source": [
    "import pandas as pd\n",
    "import numpy as np\n",
    "\n",
    "import seaborn as sns\n",
    "\n",
    "import folium\n",
    "import requests\n",
    "from tqdm.auto import tqdm\n",
    "\n",
    "from sklearn.cluster import KMeans, DBSCAN\n",
    "from sklearn.model_selection import GridSearchCV\n",
    "from sklearn.metrics import silhouette_score, make_scorer"
   ]
  },
  {
   "cell_type": "markdown",
   "metadata": {},
   "source": [
    "## Findings"
   ]
  },
  {
   "cell_type": "markdown",
   "metadata": {},
   "source": [
    "Both $k$-means and DBSCAN clustering resulted in relatively poor silhouette scores at all category grouping levels. The DBSCAN algorithm found exclusively noise in approximately 80% of the grid searched parameter combinations. No score exceeded 0.20 (see table below).\n",
    "\n",
    "| Silhouette Score | Level 1 | Level 2 | Level 3 | No Grouping |\n",
    "|------------------|---------|---------|---------|-------------|\n",
    "| **k-means**          | 0.192   | 0.178   | 0.160   | 0.153       |\n",
    "| **DBSCAN**           | 0.182   | 0.140   | 0.142   | 0.142       |\n",
    "\n",
    ">**_Our model does not yield cohesive, well-separated clusters._**\n",
    "\n",
    "One possible explanation for the lack of good clustering is that our dataset, which focuses on the similarity of venues in a neighborhood, might benefit from including more distinguishing features of  neighborhoods. A next step might be to include data points such as the following to improve the strength of the clustering algorithm:\n",
    "- availability of public transit\n",
    "- rent prices\n",
    "- resident demographics"
   ]
  },
  {
   "cell_type": "markdown",
   "metadata": {},
   "source": [
    "----"
   ]
  },
  {
   "cell_type": "markdown",
   "metadata": {},
   "source": [
    "## Retrieve & clean geo data"
   ]
  },
  {
   "cell_type": "markdown",
   "metadata": {},
   "source": [
    "### Scrape into dataframe"
   ]
  },
  {
   "cell_type": "code",
   "execution_count": 2,
   "metadata": {},
   "outputs": [],
   "source": [
    "data = pd.read_html('https://en.wikipedia.org/wiki/List_of_postal_codes_of_Canada:_M', \n",
    "                    na_values='Not assigned')\n",
    "df = data[0].sort_values(by='Postcode')"
   ]
  },
  {
   "cell_type": "code",
   "execution_count": 3,
   "metadata": {},
   "outputs": [],
   "source": [
    "df.columns = df.columns.str.lower()"
   ]
  },
  {
   "cell_type": "code",
   "execution_count": 4,
   "metadata": {},
   "outputs": [
    {
     "data": {
      "text/plain": [
       "(287, 3)"
      ]
     },
     "execution_count": 4,
     "metadata": {},
     "output_type": "execute_result"
    }
   ],
   "source": [
    "df.shape"
   ]
  },
  {
   "cell_type": "code",
   "execution_count": 5,
   "metadata": {
    "scrolled": true
   },
   "outputs": [
    {
     "data": {
      "text/html": [
       "<div>\n",
       "<style scoped>\n",
       "    .dataframe tbody tr th:only-of-type {\n",
       "        vertical-align: middle;\n",
       "    }\n",
       "\n",
       "    .dataframe tbody tr th {\n",
       "        vertical-align: top;\n",
       "    }\n",
       "\n",
       "    .dataframe thead th {\n",
       "        text-align: right;\n",
       "    }\n",
       "</style>\n",
       "<table border=\"1\" class=\"dataframe\">\n",
       "  <thead>\n",
       "    <tr style=\"text-align: right;\">\n",
       "      <th></th>\n",
       "      <th>postcode</th>\n",
       "      <th>borough</th>\n",
       "      <th>neighborhood</th>\n",
       "    </tr>\n",
       "  </thead>\n",
       "  <tbody>\n",
       "    <tr>\n",
       "      <th>0</th>\n",
       "      <td>M1A</td>\n",
       "      <td>NaN</td>\n",
       "      <td>NaN</td>\n",
       "    </tr>\n",
       "    <tr>\n",
       "      <th>11</th>\n",
       "      <td>M1B</td>\n",
       "      <td>Scarborough</td>\n",
       "      <td>Malvern</td>\n",
       "    </tr>\n",
       "    <tr>\n",
       "      <th>10</th>\n",
       "      <td>M1B</td>\n",
       "      <td>Scarborough</td>\n",
       "      <td>Rouge</td>\n",
       "    </tr>\n",
       "    <tr>\n",
       "      <th>28</th>\n",
       "      <td>M1C</td>\n",
       "      <td>Scarborough</td>\n",
       "      <td>Port Union</td>\n",
       "    </tr>\n",
       "    <tr>\n",
       "      <th>27</th>\n",
       "      <td>M1C</td>\n",
       "      <td>Scarborough</td>\n",
       "      <td>Rouge Hill</td>\n",
       "    </tr>\n",
       "  </tbody>\n",
       "</table>\n",
       "</div>"
      ],
      "text/plain": [
       "   postcode      borough neighborhood\n",
       "0       M1A          NaN          NaN\n",
       "11      M1B  Scarborough      Malvern\n",
       "10      M1B  Scarborough        Rouge\n",
       "28      M1C  Scarborough   Port Union\n",
       "27      M1C  Scarborough   Rouge Hill"
      ]
     },
     "execution_count": 5,
     "metadata": {},
     "output_type": "execute_result"
    }
   ],
   "source": [
    "df.head()"
   ]
  },
  {
   "cell_type": "markdown",
   "metadata": {},
   "source": [
    "### Remove null `borough`s"
   ]
  },
  {
   "cell_type": "code",
   "execution_count": 6,
   "metadata": {},
   "outputs": [
    {
     "data": {
      "text/html": [
       "<div>\n",
       "<style scoped>\n",
       "    .dataframe tbody tr th:only-of-type {\n",
       "        vertical-align: middle;\n",
       "    }\n",
       "\n",
       "    .dataframe tbody tr th {\n",
       "        vertical-align: top;\n",
       "    }\n",
       "\n",
       "    .dataframe thead th {\n",
       "        text-align: right;\n",
       "    }\n",
       "</style>\n",
       "<table border=\"1\" class=\"dataframe\">\n",
       "  <thead>\n",
       "    <tr style=\"text-align: right;\">\n",
       "      <th></th>\n",
       "      <th>postcode</th>\n",
       "      <th>borough</th>\n",
       "      <th>neighborhood</th>\n",
       "    </tr>\n",
       "  </thead>\n",
       "  <tbody>\n",
       "    <tr>\n",
       "      <th>11</th>\n",
       "      <td>M1B</td>\n",
       "      <td>Scarborough</td>\n",
       "      <td>Malvern</td>\n",
       "    </tr>\n",
       "    <tr>\n",
       "      <th>10</th>\n",
       "      <td>M1B</td>\n",
       "      <td>Scarborough</td>\n",
       "      <td>Rouge</td>\n",
       "    </tr>\n",
       "    <tr>\n",
       "      <th>28</th>\n",
       "      <td>M1C</td>\n",
       "      <td>Scarborough</td>\n",
       "      <td>Port Union</td>\n",
       "    </tr>\n",
       "    <tr>\n",
       "      <th>27</th>\n",
       "      <td>M1C</td>\n",
       "      <td>Scarborough</td>\n",
       "      <td>Rouge Hill</td>\n",
       "    </tr>\n",
       "    <tr>\n",
       "      <th>26</th>\n",
       "      <td>M1C</td>\n",
       "      <td>Scarborough</td>\n",
       "      <td>Highland Creek</td>\n",
       "    </tr>\n",
       "  </tbody>\n",
       "</table>\n",
       "</div>"
      ],
      "text/plain": [
       "   postcode      borough    neighborhood\n",
       "11      M1B  Scarborough         Malvern\n",
       "10      M1B  Scarborough           Rouge\n",
       "28      M1C  Scarborough      Port Union\n",
       "27      M1C  Scarborough      Rouge Hill\n",
       "26      M1C  Scarborough  Highland Creek"
      ]
     },
     "execution_count": 6,
     "metadata": {},
     "output_type": "execute_result"
    }
   ],
   "source": [
    "df = df[~df['borough'].isnull()]\n",
    "df.head()"
   ]
  },
  {
   "cell_type": "markdown",
   "metadata": {},
   "source": [
    "### Replace null `neighborhood`s with `borough`"
   ]
  },
  {
   "cell_type": "code",
   "execution_count": 7,
   "metadata": {},
   "outputs": [
    {
     "data": {
      "text/plain": [
       "1"
      ]
     },
     "execution_count": 7,
     "metadata": {},
     "output_type": "execute_result"
    }
   ],
   "source": [
    "df['neighborhood'].isnull().sum()"
   ]
  },
  {
   "cell_type": "code",
   "execution_count": 8,
   "metadata": {},
   "outputs": [],
   "source": [
    "null_filter = df['neighborhood'].isnull()\n",
    "df.loc[null_filter, 'neighborhood'] = df.loc[null_filter, 'borough']"
   ]
  },
  {
   "cell_type": "code",
   "execution_count": 9,
   "metadata": {},
   "outputs": [
    {
     "data": {
      "text/plain": [
       "0"
      ]
     },
     "execution_count": 9,
     "metadata": {},
     "output_type": "execute_result"
    }
   ],
   "source": [
    "df['neighborhood'].isnull().sum()"
   ]
  },
  {
   "cell_type": "markdown",
   "metadata": {},
   "source": [
    "### Combine `neighborhood`s by `postcode`"
   ]
  },
  {
   "cell_type": "markdown",
   "metadata": {},
   "source": [
    "Confirm `one:many` relationship between `borough:postcode`. This will allow us to groupby `postcode` alone."
   ]
  },
  {
   "cell_type": "code",
   "execution_count": 10,
   "metadata": {
    "scrolled": true
   },
   "outputs": [
    {
     "data": {
      "text/plain": [
       "True"
      ]
     },
     "execution_count": 10,
     "metadata": {},
     "output_type": "execute_result"
    }
   ],
   "source": [
    "df.groupby('postcode')['borough'].apply(lambda x: x.nunique() == 1).all()\n",
    "\n",
    "# from https://stackoverflow.com/questions/\n",
    "#            50643386/easy-way-to-see-if-two-columns-are-one-to-one-in-pandas"
   ]
  },
  {
   "cell_type": "markdown",
   "metadata": {},
   "source": [
    "Roll up the neighborhoods and consolidate the dataframe"
   ]
  },
  {
   "cell_type": "code",
   "execution_count": 11,
   "metadata": {},
   "outputs": [],
   "source": [
    "nhoods_by_postcode = df.groupby('postcode').apply(lambda x: ', '.join(\n",
    "    [str(each) for each in np.repeat(x['neighborhood'].values.tolist(), 1)]))\n",
    "\n",
    "# h/t https://stackoverflow.com/questions/\n",
    "#           31243352/concatenate-row-values-for-the-same-index-in-pandas"
   ]
  },
  {
   "cell_type": "code",
   "execution_count": 12,
   "metadata": {},
   "outputs": [],
   "source": [
    "df = df.groupby('postcode').agg('first')"
   ]
  },
  {
   "cell_type": "code",
   "execution_count": 13,
   "metadata": {},
   "outputs": [
    {
     "data": {
      "text/html": [
       "<div>\n",
       "<style scoped>\n",
       "    .dataframe tbody tr th:only-of-type {\n",
       "        vertical-align: middle;\n",
       "    }\n",
       "\n",
       "    .dataframe tbody tr th {\n",
       "        vertical-align: top;\n",
       "    }\n",
       "\n",
       "    .dataframe thead th {\n",
       "        text-align: right;\n",
       "    }\n",
       "</style>\n",
       "<table border=\"1\" class=\"dataframe\">\n",
       "  <thead>\n",
       "    <tr style=\"text-align: right;\">\n",
       "      <th></th>\n",
       "      <th>postcode</th>\n",
       "      <th>borough</th>\n",
       "      <th>neighborhood</th>\n",
       "    </tr>\n",
       "  </thead>\n",
       "  <tbody>\n",
       "    <tr>\n",
       "      <th>0</th>\n",
       "      <td>M1B</td>\n",
       "      <td>Scarborough</td>\n",
       "      <td>Malvern, Rouge</td>\n",
       "    </tr>\n",
       "    <tr>\n",
       "      <th>1</th>\n",
       "      <td>M1C</td>\n",
       "      <td>Scarborough</td>\n",
       "      <td>Port Union, Rouge Hill, Highland Creek</td>\n",
       "    </tr>\n",
       "    <tr>\n",
       "      <th>2</th>\n",
       "      <td>M1E</td>\n",
       "      <td>Scarborough</td>\n",
       "      <td>West Hill, Morningside, Guildwood</td>\n",
       "    </tr>\n",
       "    <tr>\n",
       "      <th>3</th>\n",
       "      <td>M1G</td>\n",
       "      <td>Scarborough</td>\n",
       "      <td>Woburn</td>\n",
       "    </tr>\n",
       "    <tr>\n",
       "      <th>4</th>\n",
       "      <td>M1H</td>\n",
       "      <td>Scarborough</td>\n",
       "      <td>Cedarbrae</td>\n",
       "    </tr>\n",
       "  </tbody>\n",
       "</table>\n",
       "</div>"
      ],
      "text/plain": [
       "  postcode      borough                            neighborhood\n",
       "0      M1B  Scarborough                          Malvern, Rouge\n",
       "1      M1C  Scarborough  Port Union, Rouge Hill, Highland Creek\n",
       "2      M1E  Scarborough       West Hill, Morningside, Guildwood\n",
       "3      M1G  Scarborough                                  Woburn\n",
       "4      M1H  Scarborough                               Cedarbrae"
      ]
     },
     "execution_count": 13,
     "metadata": {},
     "output_type": "execute_result"
    }
   ],
   "source": [
    "df['neighborhood'] = nhoods_by_postcode\n",
    "df.reset_index(inplace=True)\n",
    "df.head()"
   ]
  },
  {
   "cell_type": "code",
   "execution_count": 14,
   "metadata": {},
   "outputs": [
    {
     "data": {
      "text/plain": [
       "(103, 3)"
      ]
     },
     "execution_count": 14,
     "metadata": {},
     "output_type": "execute_result"
    }
   ],
   "source": [
    "df.shape"
   ]
  },
  {
   "cell_type": "markdown",
   "metadata": {},
   "source": [
    "### Get geo-coordinates of each postal code\n",
    "\n",
    "I used the .csv file because of the unreliability of the `geocoder` package"
   ]
  },
  {
   "cell_type": "code",
   "execution_count": 15,
   "metadata": {},
   "outputs": [
    {
     "data": {
      "text/html": [
       "<div>\n",
       "<style scoped>\n",
       "    .dataframe tbody tr th:only-of-type {\n",
       "        vertical-align: middle;\n",
       "    }\n",
       "\n",
       "    .dataframe tbody tr th {\n",
       "        vertical-align: top;\n",
       "    }\n",
       "\n",
       "    .dataframe thead th {\n",
       "        text-align: right;\n",
       "    }\n",
       "</style>\n",
       "<table border=\"1\" class=\"dataframe\">\n",
       "  <thead>\n",
       "    <tr style=\"text-align: right;\">\n",
       "      <th></th>\n",
       "      <th>lat</th>\n",
       "      <th>long</th>\n",
       "    </tr>\n",
       "  </thead>\n",
       "  <tbody>\n",
       "    <tr>\n",
       "      <th>M1B</th>\n",
       "      <td>43.806686</td>\n",
       "      <td>-79.194353</td>\n",
       "    </tr>\n",
       "    <tr>\n",
       "      <th>M1C</th>\n",
       "      <td>43.784535</td>\n",
       "      <td>-79.160497</td>\n",
       "    </tr>\n",
       "    <tr>\n",
       "      <th>M1E</th>\n",
       "      <td>43.763573</td>\n",
       "      <td>-79.188711</td>\n",
       "    </tr>\n",
       "    <tr>\n",
       "      <th>M1G</th>\n",
       "      <td>43.770992</td>\n",
       "      <td>-79.216917</td>\n",
       "    </tr>\n",
       "    <tr>\n",
       "      <th>M1H</th>\n",
       "      <td>43.773136</td>\n",
       "      <td>-79.239476</td>\n",
       "    </tr>\n",
       "  </tbody>\n",
       "</table>\n",
       "</div>"
      ],
      "text/plain": [
       "           lat       long\n",
       "M1B  43.806686 -79.194353\n",
       "M1C  43.784535 -79.160497\n",
       "M1E  43.763573 -79.188711\n",
       "M1G  43.770992 -79.216917\n",
       "M1H  43.773136 -79.239476"
      ]
     },
     "execution_count": 15,
     "metadata": {},
     "output_type": "execute_result"
    }
   ],
   "source": [
    "df_ll = pd.read_csv('data/Geospatial_Coordinates.csv', \n",
    "                    names=['lat', 'long'],\n",
    "                    skiprows=1)\n",
    "df_ll.head()"
   ]
  },
  {
   "cell_type": "code",
   "execution_count": 16,
   "metadata": {
    "scrolled": false
   },
   "outputs": [
    {
     "data": {
      "text/html": [
       "<div>\n",
       "<style scoped>\n",
       "    .dataframe tbody tr th:only-of-type {\n",
       "        vertical-align: middle;\n",
       "    }\n",
       "\n",
       "    .dataframe tbody tr th {\n",
       "        vertical-align: top;\n",
       "    }\n",
       "\n",
       "    .dataframe thead th {\n",
       "        text-align: right;\n",
       "    }\n",
       "</style>\n",
       "<table border=\"1\" class=\"dataframe\">\n",
       "  <thead>\n",
       "    <tr style=\"text-align: right;\">\n",
       "      <th></th>\n",
       "      <th>postcode</th>\n",
       "      <th>borough</th>\n",
       "      <th>neighborhood</th>\n",
       "      <th>lat</th>\n",
       "      <th>long</th>\n",
       "    </tr>\n",
       "  </thead>\n",
       "  <tbody>\n",
       "    <tr>\n",
       "      <th>0</th>\n",
       "      <td>M1B</td>\n",
       "      <td>Scarborough</td>\n",
       "      <td>Malvern, Rouge</td>\n",
       "      <td>43.806686</td>\n",
       "      <td>-79.194353</td>\n",
       "    </tr>\n",
       "    <tr>\n",
       "      <th>1</th>\n",
       "      <td>M1C</td>\n",
       "      <td>Scarborough</td>\n",
       "      <td>Port Union, Rouge Hill, Highland Creek</td>\n",
       "      <td>43.784535</td>\n",
       "      <td>-79.160497</td>\n",
       "    </tr>\n",
       "    <tr>\n",
       "      <th>2</th>\n",
       "      <td>M1E</td>\n",
       "      <td>Scarborough</td>\n",
       "      <td>West Hill, Morningside, Guildwood</td>\n",
       "      <td>43.763573</td>\n",
       "      <td>-79.188711</td>\n",
       "    </tr>\n",
       "    <tr>\n",
       "      <th>3</th>\n",
       "      <td>M1G</td>\n",
       "      <td>Scarborough</td>\n",
       "      <td>Woburn</td>\n",
       "      <td>43.770992</td>\n",
       "      <td>-79.216917</td>\n",
       "    </tr>\n",
       "    <tr>\n",
       "      <th>4</th>\n",
       "      <td>M1H</td>\n",
       "      <td>Scarborough</td>\n",
       "      <td>Cedarbrae</td>\n",
       "      <td>43.773136</td>\n",
       "      <td>-79.239476</td>\n",
       "    </tr>\n",
       "  </tbody>\n",
       "</table>\n",
       "</div>"
      ],
      "text/plain": [
       "  postcode      borough                            neighborhood        lat  \\\n",
       "0      M1B  Scarborough                          Malvern, Rouge  43.806686   \n",
       "1      M1C  Scarborough  Port Union, Rouge Hill, Highland Creek  43.784535   \n",
       "2      M1E  Scarborough       West Hill, Morningside, Guildwood  43.763573   \n",
       "3      M1G  Scarborough                                  Woburn  43.770992   \n",
       "4      M1H  Scarborough                               Cedarbrae  43.773136   \n",
       "\n",
       "        long  \n",
       "0 -79.194353  \n",
       "1 -79.160497  \n",
       "2 -79.188711  \n",
       "3 -79.216917  \n",
       "4 -79.239476  "
      ]
     },
     "execution_count": 16,
     "metadata": {},
     "output_type": "execute_result"
    }
   ],
   "source": [
    "df = df.join(df_ll, on='postcode')\n",
    "df.head()"
   ]
  },
  {
   "cell_type": "markdown",
   "metadata": {},
   "source": [
    "### Visualize neighborhood locations\n",
    "\n",
    "Since our goal is to find neighborhoods we might want to move to in Toronto proper, we'll limit analysis to those postcodes belonging to boroughs with \"Toronto\" in the name."
   ]
  },
  {
   "cell_type": "markdown",
   "metadata": {},
   "source": [
    "Get the central coordinates for Toronto proper"
   ]
  },
  {
   "cell_type": "code",
   "execution_count": 48,
   "metadata": {},
   "outputs": [],
   "source": [
    "toronto = df.loc[df['borough'].str.lower().str.contains('toronto')]\n",
    "toronto.shape"
   ]
  },
  {
   "cell_type": "code",
   "execution_count": 49,
   "metadata": {},
   "outputs": [],
   "source": [
    "latitude, longitude = toronto.iloc[:, -2:].mean().ravel()"
   ]
  },
  {
   "cell_type": "markdown",
   "metadata": {},
   "source": [
    "Set up borough/postal code labels for markers"
   ]
  },
  {
   "cell_type": "code",
   "execution_count": 51,
   "metadata": {},
   "outputs": [
    {
     "data": {
      "text/plain": [
       "37       East Toronto - M4E\n",
       "41       East Toronto - M4K\n",
       "42       East Toronto - M4L\n",
       "43       East Toronto - M4M\n",
       "44    Central Toronto - M4N\n",
       "Name: borough, dtype: object"
      ]
     },
     "execution_count": 51,
     "metadata": {},
     "output_type": "execute_result"
    }
   ],
   "source": [
    "labels = toronto.borough.str.cat(toronto.postcode, sep=' - ')\n",
    "labels.head()"
   ]
  },
  {
   "cell_type": "code",
   "execution_count": 65,
   "metadata": {
    "scrolled": false
   },
   "outputs": [
    {
     "data": {
      "text/html": [
       "<div style=\"width:100%;\"><div style=\"position:relative;width:100%;height:0;padding-bottom:60%;\"><iframe src=\"data:text/html;charset=utf-8;base64,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\" style=\"position:absolute;width:100%;height:100%;left:0;top:0;border:none !important;\" allowfullscreen webkitallowfullscreen mozallowfullscreen></iframe></div></div>"
      ],
      "text/plain": [
       "<folium.folium.Map at 0x11a2f4b00>"
      ]
     },
     "execution_count": 65,
     "metadata": {},
     "output_type": "execute_result"
    }
   ],
   "source": [
    "venues_map = folium.Map(location=[latitude, longitude], zoom_start=11)\n",
    "\n",
    "# add Toronto center as a red circle mark\n",
    "folium.CircleMarker(\n",
    "    [latitude, longitude],\n",
    "    radius=75,\n",
    "    popup='Toronto',\n",
    "    fill=True,\n",
    "    color='red',\n",
    "    fill_color='red',\n",
    "    fill_opacity=0.25,\n",
    "    weight=0\n",
    "    ).add_to(venues_map)\n",
    "\n",
    "\n",
    "# add popular spots to the map as blue circle markers\n",
    "for lat, long, label in zip(toronto.lat, toronto.long, labels):\n",
    "    folium.CircleMarker(\n",
    "        [lat, long],\n",
    "        radius=3,\n",
    "        popup=label,\n",
    "        fill=True,\n",
    "        color='blue',\n",
    "        fill_color='blue',\n",
    "        fill_opacity=0.4,\n",
    "        weight=1\n",
    "        ).add_to(venues_map)\n",
    "\n",
    "# display map\n",
    "venues_map"
   ]
  },
  {
   "cell_type": "markdown",
   "metadata": {},
   "source": [
    "## Retrieve & clean venue data"
   ]
  },
  {
   "cell_type": "markdown",
   "metadata": {},
   "source": [
    "### Pull venues from foursquare API"
   ]
  },
  {
   "cell_type": "code",
   "execution_count": 86,
   "metadata": {},
   "outputs": [],
   "source": [
    "CLIENT_ID = 'VXYAGD1UCDJXEPUG3JUKI24MZMLYQUOPMYMEDB0MBXZQFMU3' # your Foursquare ID\n",
    "CLIENT_SECRET = '1QR1DGV15DE0QEZM5VVYSDFQ1TZJMSP1G4TYVP2ITYYLMWMF' # your Foursquare Secret\n",
    "VERSION = '20180605' # Foursquare API version\n",
    "LIMIT = 100\n",
    "\n",
    "def get_nearby_venues(nhood_names, latitudes, longitudes, radius=1000):\n",
    "    \n",
    "    venues_list=[]\n",
    "    for nhood_name, lat, lng in zip(nhood_names, latitudes, longitudes):\n",
    "        print(nhood_name)\n",
    "            \n",
    "        # create the API request URL\n",
    "        req_params = {\n",
    "            'client_id': CLIENT_ID,\n",
    "            'client_secret': CLIENT_SECRET,\n",
    "            'll': f'{lat},{lng}',\n",
    "            'v': VERSION,\n",
    "            'radius': radius,\n",
    "            'limit': LIMIT\n",
    "        }\n",
    "        url = 'https://api.foursquare.com/v2/venues/explore'\n",
    "            \n",
    "        # make the GET request\n",
    "        results = requests.get(url, req_params).json(\n",
    "                    )['response']['groups'][0]['items']\n",
    "\n",
    "        # return only relevant information for each nearby venue\n",
    "        venues_list.append([(\n",
    "            nhood_name, \n",
    "            lat, \n",
    "            lng, \n",
    "            v['venue']['name'], \n",
    "            v['venue']['location']['lat'], \n",
    "            v['venue']['location']['lng'],  \n",
    "            v['venue']['categories'][0]['name']) for v in results])\n",
    "\n",
    "    nearby_venues = pd.DataFrame([item for venue_list in venues_list \n",
    "                                  for item in venue_list])\n",
    "    \n",
    "    nearby_venues.columns = ['nhood', \n",
    "                  'nhood_lat', \n",
    "                  'nhood_long', \n",
    "                  'venue', \n",
    "                  'v_lat', \n",
    "                  'v_long', \n",
    "                  'category']\n",
    "    \n",
    "    return(nearby_venues)"
   ]
  },
  {
   "cell_type": "code",
   "execution_count": 87,
   "metadata": {},
   "outputs": [
    {
     "name": "stdout",
     "output_type": "stream",
     "text": [
      "The Beaches\n",
      "The Danforth West, Riverdale\n",
      "The Beaches West, India Bazaar\n",
      "Studio District\n",
      "Lawrence Park\n",
      "Davisville North\n",
      "North Toronto West\n",
      "Davisville\n",
      "Summerhill East, Moore Park\n",
      "South Hill, Rathnelly, Forest Hill SE, Deer Park, Summerhill West\n",
      "Rosedale\n",
      "Cabbagetown, St. James Town\n",
      "Church and Wellesley\n",
      "Harbourfront\n",
      "Garden District, Ryerson\n",
      "St. James Town\n",
      "Berczy Park\n",
      "Central Bay Street\n",
      "Richmond, Adelaide, King\n",
      "Union Station, Toronto Islands, Harbourfront East\n",
      "Toronto Dominion Centre, Design Exchange\n",
      "Commerce Court, Victoria Hotel\n",
      "Roselawn\n",
      "Forest Hill North, Forest Hill West\n",
      "North Midtown, Yorkville, The Annex\n",
      "University of Toronto, Harbord\n",
      "Grange Park, Kensington Market, Chinatown\n",
      "King and Spadina, Harbourfront West, Island airport, Bathurst Quay, CN Tower, South Niagara, Railway Lands\n",
      "Stn A PO Boxes 25 The Esplanade\n",
      "First Canadian Place, Underground city\n",
      "Christie\n",
      "Dovercourt Village, Dufferin\n",
      "Trinity, Little Portugal\n",
      "Parkdale Village, Exhibition Place, Brockton\n",
      "The Junction South, High Park\n",
      "Roncesvalles, Parkdale\n",
      "Runnymede, Swansea\n",
      "Queen's Park\n",
      "Business Reply Mail Processing Centre 969 Eastern\n"
     ]
    }
   ],
   "source": [
    "toronto_venues = get_nearby_venues(nhood_names=toronto['neighborhood'],\n",
    "                                   latitudes=toronto['lat'],\n",
    "                                   longitudes=toronto['long'])"
   ]
  },
  {
   "cell_type": "markdown",
   "metadata": {},
   "source": [
    "## EDA"
   ]
  },
  {
   "cell_type": "markdown",
   "metadata": {},
   "source": [
    "We have nearly 3,200 venues, with complete coverage in about $\\frac{2}{3}$ of neighborhoods."
   ]
  },
  {
   "cell_type": "code",
   "execution_count": 88,
   "metadata": {
    "scrolled": true
   },
   "outputs": [
    {
     "data": {
      "text/plain": [
       "(3191, 7)"
      ]
     },
     "execution_count": 88,
     "metadata": {},
     "output_type": "execute_result"
    }
   ],
   "source": [
    "toronto_venues.shape"
   ]
  },
  {
   "cell_type": "code",
   "execution_count": 106,
   "metadata": {},
   "outputs": [
    {
     "data": {
      "image/png": "[encoded data removed]",
      "text/plain": [
       "<Figure size 432x720 with 1 Axes>"
      ]
     },
     "metadata": {
      "needs_background": "light"
     },
     "output_type": "display_data"
    }
   ],
   "source": [
    "toronto_venues.groupby('nhood').count()[['category']\n",
    "                ].sort_values('category').plot.barh(figsize=(6,10));"
   ]
  },
  {
   "cell_type": "markdown",
   "metadata": {},
   "source": [
    "The data include 280 unique categories."
   ]
  },
  {
   "cell_type": "code",
   "execution_count": 115,
   "metadata": {},
   "outputs": [
    {
     "data": {
      "text/plain": [
       "280"
      ]
     },
     "execution_count": 115,
     "metadata": {},
     "output_type": "execute_result"
    }
   ],
   "source": [
    "toronto_venues['category'].nunique()"
   ]
  },
  {
   "cell_type": "markdown",
   "metadata": {},
   "source": [
    "### Category sparsity"
   ]
  },
  {
   "cell_type": "markdown",
   "metadata": {},
   "source": [
    "Retrieve category hierarchy from foursquare API"
   ]
  },
  {
   "cell_type": "code",
   "execution_count": 123,
   "metadata": {},
   "outputs": [],
   "source": [
    "req_params = {\n",
    "    'client_id': CLIENT_ID,\n",
    "    'client_secret': CLIENT_SECRET,\n",
    "    'v': VERSION,\n",
    "    }\n",
    "url = 'https://api.foursquare.com/v2/venues/categories'\n",
    "\n",
    "# make the GET request\n",
    "category_tree = requests.get(url, req_params).json()"
   ]
  },
  {
   "cell_type": "markdown",
   "metadata": {},
   "source": [
    "Define a recursive function to walk the hierarchy"
   ]
  },
  {
   "cell_type": "code",
   "execution_count": 414,
   "metadata": {},
   "outputs": [],
   "source": [
    "def show_category_tree(tree, level=0, parent=None, categories=[]):\n",
    "    if not tree:\n",
    "        return categories\n",
    "    else:\n",
    "        for category in tree:\n",
    "            categories.append({\n",
    "                'category': category['name'],\n",
    "                'level': level,\n",
    "                'parent': parent\n",
    "            })\n",
    "            show_category_tree(category['categories'], level=level+1, \n",
    "                               parent=category['name'], categories=categories)\n",
    "        return categories"
   ]
  },
  {
   "cell_type": "markdown",
   "metadata": {},
   "source": [
    "Put the category hierarchy in a DataFrame. We have 941 total categories (of which 280 are represented in our dataset)"
   ]
  },
  {
   "cell_type": "code",
   "execution_count": 415,
   "metadata": {},
   "outputs": [
    {
     "data": {
      "text/plain": [
       "(941, 3)"
      ]
     },
     "execution_count": 415,
     "metadata": {},
     "output_type": "execute_result"
    }
   ],
   "source": [
    "categories = pd.DataFrame(show_category_tree(category_tree['response']['categories']))\n",
    "categories.shape"
   ]
  },
  {
   "cell_type": "markdown",
   "metadata": {},
   "source": [
    "Most of the canoncial categories are at levels 1 and 2"
   ]
  },
  {
   "cell_type": "code",
   "execution_count": 426,
   "metadata": {},
   "outputs": [
    {
     "data": {
      "image/png": "[encoded data removed]",
      "text/plain": [
       "<Figure size 432x288 with 1 Axes>"
      ]
     },
     "metadata": {
      "needs_background": "light"
     },
     "output_type": "display_data"
    }
   ],
   "source": [
    "categories.groupby('level').count()[['category']].plot.barh(table=True, xticks=[]);"
   ]
  },
  {
   "cell_type": "code",
   "execution_count": 209,
   "metadata": {},
   "outputs": [
    {
     "data": {
      "text/html": [
       "<div>\n",
       "<style scoped>\n",
       "    .dataframe tbody tr th:only-of-type {\n",
       "        vertical-align: middle;\n",
       "    }\n",
       "\n",
       "    .dataframe tbody tr th {\n",
       "        vertical-align: top;\n",
       "    }\n",
       "\n",
       "    .dataframe thead th {\n",
       "        text-align: right;\n",
       "    }\n",
       "</style>\n",
       "<table border=\"1\" class=\"dataframe\">\n",
       "  <thead>\n",
       "    <tr style=\"text-align: right;\">\n",
       "      <th></th>\n",
       "      <th>category</th>\n",
       "      <th>level</th>\n",
       "      <th>parent</th>\n",
       "    </tr>\n",
       "  </thead>\n",
       "  <tbody>\n",
       "    <tr>\n",
       "      <th>0</th>\n",
       "      <td>Arts &amp; Entertainment</td>\n",
       "      <td>0</td>\n",
       "      <td>None</td>\n",
       "    </tr>\n",
       "    <tr>\n",
       "      <th>1</th>\n",
       "      <td>Amphitheater</td>\n",
       "      <td>1</td>\n",
       "      <td>Arts &amp; Entertainment</td>\n",
       "    </tr>\n",
       "    <tr>\n",
       "      <th>2</th>\n",
       "      <td>Aquarium</td>\n",
       "      <td>1</td>\n",
       "      <td>Arts &amp; Entertainment</td>\n",
       "    </tr>\n",
       "    <tr>\n",
       "      <th>3</th>\n",
       "      <td>Arcade</td>\n",
       "      <td>1</td>\n",
       "      <td>Arts &amp; Entertainment</td>\n",
       "    </tr>\n",
       "    <tr>\n",
       "      <th>4</th>\n",
       "      <td>Art Gallery</td>\n",
       "      <td>1</td>\n",
       "      <td>Arts &amp; Entertainment</td>\n",
       "    </tr>\n",
       "  </tbody>\n",
       "</table>\n",
       "</div>"
      ],
      "text/plain": [
       "               category  level                parent\n",
       "0  Arts & Entertainment      0                  None\n",
       "1          Amphitheater      1  Arts & Entertainment\n",
       "2              Aquarium      1  Arts & Entertainment\n",
       "3                Arcade      1  Arts & Entertainment\n",
       "4           Art Gallery      1  Arts & Entertainment"
      ]
     },
     "execution_count": 209,
     "metadata": {},
     "output_type": "execute_result"
    }
   ],
   "source": [
    "categories.head()"
   ]
  },
  {
   "cell_type": "markdown",
   "metadata": {},
   "source": [
    "The distribution of categories in the Toronto venues data is light at level 2, and we see few venues categorized at levels 3 & 4."
   ]
  },
  {
   "cell_type": "code",
   "execution_count": 424,
   "metadata": {},
   "outputs": [
    {
     "data": {
      "image/png": "[encoded data removed]",
      "text/plain": [
       "<Figure size 432x288 with 1 Axes>"
      ]
     },
     "metadata": {
      "needs_background": "light"
     },
     "output_type": "display_data"
    }
   ],
   "source": [
    "toronto_venues.merge(categories, how='left', left_on='category', right_on='category'\n",
    "                    )['level'].value_counts(dropna=False).sort_index(\n",
    "                    ).plot.barh(table=True, xticks=[]);"
   ]
  },
  {
   "cell_type": "markdown",
   "metadata": {},
   "source": [
    "Let's create a \"category group\" field to allow us to roll up venue categories into higher levels."
   ]
  },
  {
   "cell_type": "code",
   "execution_count": 429,
   "metadata": {},
   "outputs": [],
   "source": [
    "def map_category_group(category, max_depth=0):\n",
    "    current_depth = categories[categories['category'] == category]['level'].values[0]\n",
    "    current_group = categories[categories['category'] == category]['category'].values[0]\n",
    "\n",
    "    while current_depth > max_depth:\n",
    "        current_depth -= 1\n",
    "        current_group = categories[categories['category'] == current_group]['parent'].values[0]\n",
    "    \n",
    "    return current_group"
   ]
  },
  {
   "cell_type": "markdown",
   "metadata": {},
   "source": [
    "And let's make level 2 the lowest level of granularity"
   ]
  },
  {
   "cell_type": "code",
   "execution_count": 430,
   "metadata": {},
   "outputs": [],
   "source": [
    "toronto_venues['category_group'] = toronto_venues['category'].apply(\n",
    "    lambda x: map_category_group(x, 2))"
   ]
  },
  {
   "cell_type": "code",
   "execution_count": 434,
   "metadata": {},
   "outputs": [
    {
     "data": {
      "text/html": [
       "<div>\n",
       "<style scoped>\n",
       "    .dataframe tbody tr th:only-of-type {\n",
       "        vertical-align: middle;\n",
       "    }\n",
       "\n",
       "    .dataframe tbody tr th {\n",
       "        vertical-align: top;\n",
       "    }\n",
       "\n",
       "    .dataframe thead th {\n",
       "        text-align: right;\n",
       "    }\n",
       "</style>\n",
       "<table border=\"1\" class=\"dataframe\">\n",
       "  <thead>\n",
       "    <tr style=\"text-align: right;\">\n",
       "      <th></th>\n",
       "      <th>nhood</th>\n",
       "      <th>nhood_lat</th>\n",
       "      <th>nhood_long</th>\n",
       "      <th>venue</th>\n",
       "      <th>v_lat</th>\n",
       "      <th>v_long</th>\n",
       "      <th>category</th>\n",
       "      <th>category_group</th>\n",
       "    </tr>\n",
       "  </thead>\n",
       "  <tbody>\n",
       "    <tr>\n",
       "      <th>2118</th>\n",
       "      <td>Grange Park, Kensington Market, Chinatown</td>\n",
       "      <td>43.653206</td>\n",
       "      <td>-79.400049</td>\n",
       "      <td>Krudar Muay Thai</td>\n",
       "      <td>43.652815</td>\n",
       "      <td>-79.401368</td>\n",
       "      <td>Martial Arts Dojo</td>\n",
       "      <td>Gym / Fitness Center</td>\n",
       "    </tr>\n",
       "    <tr>\n",
       "      <th>487</th>\n",
       "      <td>North Toronto West</td>\n",
       "      <td>43.715383</td>\n",
       "      <td>-79.405678</td>\n",
       "      <td>Toronto Sporting Life 10k</td>\n",
       "      <td>43.711832</td>\n",
       "      <td>-79.399451</td>\n",
       "      <td>Track</td>\n",
       "      <td>Gym / Fitness Center</td>\n",
       "    </tr>\n",
       "    <tr>\n",
       "      <th>686</th>\n",
       "      <td>South Hill, Rathnelly, Forest Hill SE, Deer Pa...</td>\n",
       "      <td>43.686412</td>\n",
       "      <td>-79.400049</td>\n",
       "      <td>Daeco Sushi</td>\n",
       "      <td>43.687838</td>\n",
       "      <td>-79.395652</td>\n",
       "      <td>Sushi Restaurant</td>\n",
       "      <td>Japanese Restaurant</td>\n",
       "    </tr>\n",
       "    <tr>\n",
       "      <th>3049</th>\n",
       "      <td>Queen's Park</td>\n",
       "      <td>43.662301</td>\n",
       "      <td>-79.389494</td>\n",
       "      <td>The Yoga Sanctuary</td>\n",
       "      <td>43.661499</td>\n",
       "      <td>-79.383636</td>\n",
       "      <td>Yoga Studio</td>\n",
       "      <td>Gym / Fitness Center</td>\n",
       "    </tr>\n",
       "    <tr>\n",
       "      <th>639</th>\n",
       "      <td>Summerhill East, Moore Park</td>\n",
       "      <td>43.689574</td>\n",
       "      <td>-79.383160</td>\n",
       "      <td>GoodLife Fitness</td>\n",
       "      <td>43.689617</td>\n",
       "      <td>-79.394695</td>\n",
       "      <td>Gym</td>\n",
       "      <td>Gym / Fitness Center</td>\n",
       "    </tr>\n",
       "    <tr>\n",
       "      <th>2987</th>\n",
       "      <td>Runnymede, Swansea</td>\n",
       "      <td>43.651571</td>\n",
       "      <td>-79.484450</td>\n",
       "      <td>Asa Sushi</td>\n",
       "      <td>43.649902</td>\n",
       "      <td>-79.484611</td>\n",
       "      <td>Sushi Restaurant</td>\n",
       "      <td>Japanese Restaurant</td>\n",
       "    </tr>\n",
       "    <tr>\n",
       "      <th>1434</th>\n",
       "      <td>Richmond, Adelaide, King</td>\n",
       "      <td>43.650571</td>\n",
       "      <td>-79.384568</td>\n",
       "      <td>Copacabana Grilled Brazilian</td>\n",
       "      <td>43.648333</td>\n",
       "      <td>-79.388151</td>\n",
       "      <td>Brazilian Restaurant</td>\n",
       "      <td>South American Restaurant</td>\n",
       "    </tr>\n",
       "    <tr>\n",
       "      <th>1457</th>\n",
       "      <td>Richmond, Adelaide, King</td>\n",
       "      <td>43.650571</td>\n",
       "      <td>-79.384568</td>\n",
       "      <td>GoodLife Fitness</td>\n",
       "      <td>43.651242</td>\n",
       "      <td>-79.378068</td>\n",
       "      <td>Gym</td>\n",
       "      <td>Gym / Fitness Center</td>\n",
       "    </tr>\n",
       "    <tr>\n",
       "      <th>2007</th>\n",
       "      <td>University of Toronto, Harbord</td>\n",
       "      <td>43.662696</td>\n",
       "      <td>-79.400049</td>\n",
       "      <td>Miles Nadal Jewish Community Centre</td>\n",
       "      <td>43.666519</td>\n",
       "      <td>-79.403874</td>\n",
       "      <td>Gym</td>\n",
       "      <td>Gym / Fitness Center</td>\n",
       "    </tr>\n",
       "    <tr>\n",
       "      <th>301</th>\n",
       "      <td>Studio District</td>\n",
       "      <td>43.659526</td>\n",
       "      <td>-79.340923</td>\n",
       "      <td>Kibo Sushi House</td>\n",
       "      <td>43.662633</td>\n",
       "      <td>-79.332677</td>\n",
       "      <td>Sushi Restaurant</td>\n",
       "      <td>Japanese Restaurant</td>\n",
       "    </tr>\n",
       "  </tbody>\n",
       "</table>\n",
       "</div>"
      ],
      "text/plain": [
       "                                                  nhood  nhood_lat  \\\n",
       "2118          Grange Park, Kensington Market, Chinatown  43.653206   \n",
       "487                                  North Toronto West  43.715383   \n",
       "686   South Hill, Rathnelly, Forest Hill SE, Deer Pa...  43.686412   \n",
       "3049                                       Queen's Park  43.662301   \n",
       "639                         Summerhill East, Moore Park  43.689574   \n",
       "2987                                 Runnymede, Swansea  43.651571   \n",
       "1434                           Richmond, Adelaide, King  43.650571   \n",
       "1457                           Richmond, Adelaide, King  43.650571   \n",
       "2007                     University of Toronto, Harbord  43.662696   \n",
       "301                                     Studio District  43.659526   \n",
       "\n",
       "      nhood_long                                venue      v_lat     v_long  \\\n",
       "2118  -79.400049                     Krudar Muay Thai  43.652815 -79.401368   \n",
       "487   -79.405678            Toronto Sporting Life 10k  43.711832 -79.399451   \n",
       "686   -79.400049                          Daeco Sushi  43.687838 -79.395652   \n",
       "3049  -79.389494                   The Yoga Sanctuary  43.661499 -79.383636   \n",
       "639   -79.383160                     GoodLife Fitness  43.689617 -79.394695   \n",
       "2987  -79.484450                            Asa Sushi  43.649902 -79.484611   \n",
       "1434  -79.384568         Copacabana Grilled Brazilian  43.648333 -79.388151   \n",
       "1457  -79.384568                     GoodLife Fitness  43.651242 -79.378068   \n",
       "2007  -79.400049  Miles Nadal Jewish Community Centre  43.666519 -79.403874   \n",
       "301   -79.340923                     Kibo Sushi House  43.662633 -79.332677   \n",
       "\n",
       "                  category             category_group  \n",
       "2118     Martial Arts Dojo       Gym / Fitness Center  \n",
       "487                  Track       Gym / Fitness Center  \n",
       "686       Sushi Restaurant        Japanese Restaurant  \n",
       "3049           Yoga Studio       Gym / Fitness Center  \n",
       "639                    Gym       Gym / Fitness Center  \n",
       "2987      Sushi Restaurant        Japanese Restaurant  \n",
       "1434  Brazilian Restaurant  South American Restaurant  \n",
       "1457                   Gym       Gym / Fitness Center  \n",
       "2007                   Gym       Gym / Fitness Center  \n",
       "301       Sushi Restaurant        Japanese Restaurant  "
      ]
     },
     "execution_count": 434,
     "metadata": {},
     "output_type": "execute_result"
    }
   ],
   "source": [
    "toronto_venues[toronto_venues['category'] != toronto_venues['category_group']\n",
    "              ].sample(10)"
   ]
  },
  {
   "cell_type": "code",
   "execution_count": 435,
   "metadata": {},
   "outputs": [
    {
     "data": {
      "text/plain": [
       "category_group\n",
       "Coffee Shop                  253\n",
       "Café                         175\n",
       "Japanese Restaurant          139\n",
       "Gym / Fitness Center         103\n",
       "Italian Restaurant            90\n",
       "                            ... \n",
       "Cajun / Creole Restaurant      1\n",
       "Pide Place                     1\n",
       "Pie Shop                       1\n",
       "Recording Studio               1\n",
       "Zoo                            1\n",
       "Name: category, Length: 266, dtype: int64"
      ]
     },
     "execution_count": 435,
     "metadata": {},
     "output_type": "execute_result"
    }
   ],
   "source": [
    "toronto_venues.groupby('category_group').count()['category'].sort_values(\n",
    "    ascending=False)"
   ]
  },
  {
   "cell_type": "code",
   "execution_count": 305,
   "metadata": {},
   "outputs": [],
   "source": [
    "nhood_categories = pd.crosstab(toronto_venues.nhood, toronto_venues.category_group)"
   ]
  },
  {
   "cell_type": "markdown",
   "metadata": {},
   "source": [
    "We'll min/max scale the data for clustering."
   ]
  },
  {
   "cell_type": "code",
   "execution_count": 306,
   "metadata": {
    "scrolled": true
   },
   "outputs": [
    {
     "data": {
      "text/html": [
       "<div>\n",
       "<style scoped>\n",
       "    .dataframe tbody tr th:only-of-type {\n",
       "        vertical-align: middle;\n",
       "    }\n",
       "\n",
       "    .dataframe tbody tr th {\n",
       "        vertical-align: top;\n",
       "    }\n",
       "\n",
       "    .dataframe thead th {\n",
       "        text-align: right;\n",
       "    }\n",
       "</style>\n",
       "<table border=\"1\" class=\"dataframe\">\n",
       "  <thead>\n",
       "    <tr style=\"text-align: right;\">\n",
       "      <th>category_group</th>\n",
       "      <th>Accessories Store</th>\n",
       "      <th>Airport</th>\n",
       "      <th>Airport Lounge</th>\n",
       "      <th>American Restaurant</th>\n",
       "      <th>Amphitheater</th>\n",
       "      <th>Animal Shelter</th>\n",
       "      <th>Antique Shop</th>\n",
       "      <th>Aquarium</th>\n",
       "      <th>Art Gallery</th>\n",
       "      <th>Arts &amp; Crafts Store</th>\n",
       "      <th>...</th>\n",
       "      <th>Vegetarian / Vegan Restaurant</th>\n",
       "      <th>Video Game Store</th>\n",
       "      <th>Video Store</th>\n",
       "      <th>Vietnamese Restaurant</th>\n",
       "      <th>Whisky Bar</th>\n",
       "      <th>Wine Bar</th>\n",
       "      <th>Wine Shop</th>\n",
       "      <th>Wings Joint</th>\n",
       "      <th>Women's Store</th>\n",
       "      <th>Zoo</th>\n",
       "    </tr>\n",
       "    <tr>\n",
       "      <th>nhood</th>\n",
       "      <th></th>\n",
       "      <th></th>\n",
       "      <th></th>\n",
       "      <th></th>\n",
       "      <th></th>\n",
       "      <th></th>\n",
       "      <th></th>\n",
       "      <th></th>\n",
       "      <th></th>\n",
       "      <th></th>\n",
       "      <th></th>\n",
       "      <th></th>\n",
       "      <th></th>\n",
       "      <th></th>\n",
       "      <th></th>\n",
       "      <th></th>\n",
       "      <th></th>\n",
       "      <th></th>\n",
       "      <th></th>\n",
       "      <th></th>\n",
       "      <th></th>\n",
       "    </tr>\n",
       "  </thead>\n",
       "  <tbody>\n",
       "    <tr>\n",
       "      <th>Berczy Park</th>\n",
       "      <td>0.000000</td>\n",
       "      <td>0.000000</td>\n",
       "      <td>0.000000</td>\n",
       "      <td>0.066667</td>\n",
       "      <td>0.000000</td>\n",
       "      <td>0.000000</td>\n",
       "      <td>0.000000</td>\n",
       "      <td>0.000000</td>\n",
       "      <td>0.133333</td>\n",
       "      <td>0.000000</td>\n",
       "      <td>...</td>\n",
       "      <td>0.066667</td>\n",
       "      <td>0.000000</td>\n",
       "      <td>0.000000</td>\n",
       "      <td>0.000000</td>\n",
       "      <td>0.000000</td>\n",
       "      <td>0.000000</td>\n",
       "      <td>0.000000</td>\n",
       "      <td>0.000000</td>\n",
       "      <td>0.000000</td>\n",
       "      <td>0.000000</td>\n",
       "    </tr>\n",
       "    <tr>\n",
       "      <th>Business Reply Mail Processing Centre 969 Eastern</th>\n",
       "      <td>0.000000</td>\n",
       "      <td>0.000000</td>\n",
       "      <td>0.000000</td>\n",
       "      <td>0.000000</td>\n",
       "      <td>0.000000</td>\n",
       "      <td>0.000000</td>\n",
       "      <td>0.000000</td>\n",
       "      <td>0.000000</td>\n",
       "      <td>0.000000</td>\n",
       "      <td>0.066667</td>\n",
       "      <td>...</td>\n",
       "      <td>0.000000</td>\n",
       "      <td>0.000000</td>\n",
       "      <td>0.000000</td>\n",
       "      <td>0.000000</td>\n",
       "      <td>0.000000</td>\n",
       "      <td>0.000000</td>\n",
       "      <td>0.000000</td>\n",
       "      <td>0.000000</td>\n",
       "      <td>0.000000</td>\n",
       "      <td>0.000000</td>\n",
       "    </tr>\n",
       "    <tr>\n",
       "      <th>Cabbagetown, St. James Town</th>\n",
       "      <td>0.000000</td>\n",
       "      <td>0.000000</td>\n",
       "      <td>0.000000</td>\n",
       "      <td>0.066667</td>\n",
       "      <td>0.000000</td>\n",
       "      <td>0.000000</td>\n",
       "      <td>0.000000</td>\n",
       "      <td>0.000000</td>\n",
       "      <td>0.000000</td>\n",
       "      <td>0.000000</td>\n",
       "      <td>...</td>\n",
       "      <td>0.000000</td>\n",
       "      <td>0.000000</td>\n",
       "      <td>0.000000</td>\n",
       "      <td>0.000000</td>\n",
       "      <td>0.000000</td>\n",
       "      <td>0.000000</td>\n",
       "      <td>0.000000</td>\n",
       "      <td>0.000000</td>\n",
       "      <td>0.000000</td>\n",
       "      <td>0.000000</td>\n",
       "    </tr>\n",
       "    <tr>\n",
       "      <th>Central Bay Street</th>\n",
       "      <td>0.000000</td>\n",
       "      <td>0.000000</td>\n",
       "      <td>0.000000</td>\n",
       "      <td>0.066667</td>\n",
       "      <td>0.000000</td>\n",
       "      <td>0.000000</td>\n",
       "      <td>0.000000</td>\n",
       "      <td>0.000000</td>\n",
       "      <td>0.133333</td>\n",
       "      <td>0.133333</td>\n",
       "      <td>...</td>\n",
       "      <td>0.133333</td>\n",
       "      <td>0.000000</td>\n",
       "      <td>0.000000</td>\n",
       "      <td>0.000000</td>\n",
       "      <td>0.000000</td>\n",
       "      <td>0.000000</td>\n",
       "      <td>0.000000</td>\n",
       "      <td>0.000000</td>\n",
       "      <td>0.000000</td>\n",
       "      <td>0.000000</td>\n",
       "    </tr>\n",
       "    <tr>\n",
       "      <th>Christie</th>\n",
       "      <td>0.000000</td>\n",
       "      <td>0.000000</td>\n",
       "      <td>0.000000</td>\n",
       "      <td>0.066667</td>\n",
       "      <td>0.000000</td>\n",
       "      <td>0.000000</td>\n",
       "      <td>0.000000</td>\n",
       "      <td>0.000000</td>\n",
       "      <td>0.066667</td>\n",
       "      <td>0.000000</td>\n",
       "      <td>...</td>\n",
       "      <td>0.133333</td>\n",
       "      <td>0.000000</td>\n",
       "      <td>0.000000</td>\n",
       "      <td>0.066667</td>\n",
       "      <td>0.000000</td>\n",
       "      <td>0.066667</td>\n",
       "      <td>0.000000</td>\n",
       "      <td>0.000000</td>\n",
       "      <td>0.000000</td>\n",
       "      <td>0.000000</td>\n",
       "    </tr>\n",
       "    <tr>\n",
       "      <th>Church and Wellesley</th>\n",
       "      <td>0.000000</td>\n",
       "      <td>0.000000</td>\n",
       "      <td>0.000000</td>\n",
       "      <td>0.066667</td>\n",
       "      <td>0.000000</td>\n",
       "      <td>0.000000</td>\n",
       "      <td>0.000000</td>\n",
       "      <td>0.000000</td>\n",
       "      <td>0.000000</td>\n",
       "      <td>0.066667</td>\n",
       "      <td>...</td>\n",
       "      <td>0.066667</td>\n",
       "      <td>0.000000</td>\n",
       "      <td>0.066667</td>\n",
       "      <td>0.000000</td>\n",
       "      <td>0.000000</td>\n",
       "      <td>0.000000</td>\n",
       "      <td>0.066667</td>\n",
       "      <td>0.066667</td>\n",
       "      <td>0.000000</td>\n",
       "      <td>0.000000</td>\n",
       "    </tr>\n",
       "    <tr>\n",
       "      <th>Commerce Court, Victoria Hotel</th>\n",
       "      <td>0.000000</td>\n",
       "      <td>0.000000</td>\n",
       "      <td>0.000000</td>\n",
       "      <td>0.133333</td>\n",
       "      <td>0.000000</td>\n",
       "      <td>0.000000</td>\n",
       "      <td>0.000000</td>\n",
       "      <td>0.000000</td>\n",
       "      <td>0.133333</td>\n",
       "      <td>0.000000</td>\n",
       "      <td>...</td>\n",
       "      <td>0.133333</td>\n",
       "      <td>0.000000</td>\n",
       "      <td>0.000000</td>\n",
       "      <td>0.000000</td>\n",
       "      <td>0.000000</td>\n",
       "      <td>0.000000</td>\n",
       "      <td>0.000000</td>\n",
       "      <td>0.000000</td>\n",
       "      <td>0.066667</td>\n",
       "      <td>0.000000</td>\n",
       "    </tr>\n",
       "    <tr>\n",
       "      <th>Davisville</th>\n",
       "      <td>0.000000</td>\n",
       "      <td>0.000000</td>\n",
       "      <td>0.000000</td>\n",
       "      <td>0.000000</td>\n",
       "      <td>0.000000</td>\n",
       "      <td>0.000000</td>\n",
       "      <td>0.000000</td>\n",
       "      <td>0.000000</td>\n",
       "      <td>0.000000</td>\n",
       "      <td>0.000000</td>\n",
       "      <td>...</td>\n",
       "      <td>0.066667</td>\n",
       "      <td>0.066667</td>\n",
       "      <td>0.000000</td>\n",
       "      <td>0.066667</td>\n",
       "      <td>0.000000</td>\n",
       "      <td>0.066667</td>\n",
       "      <td>0.000000</td>\n",
       "      <td>0.066667</td>\n",
       "      <td>0.000000</td>\n",
       "      <td>0.000000</td>\n",
       "    </tr>\n",
       "    <tr>\n",
       "      <th>Davisville North</th>\n",
       "      <td>0.000000</td>\n",
       "      <td>0.000000</td>\n",
       "      <td>0.000000</td>\n",
       "      <td>0.000000</td>\n",
       "      <td>0.000000</td>\n",
       "      <td>0.000000</td>\n",
       "      <td>0.000000</td>\n",
       "      <td>0.000000</td>\n",
       "      <td>0.000000</td>\n",
       "      <td>0.000000</td>\n",
       "      <td>...</td>\n",
       "      <td>0.066667</td>\n",
       "      <td>0.000000</td>\n",
       "      <td>0.000000</td>\n",
       "      <td>0.066667</td>\n",
       "      <td>0.000000</td>\n",
       "      <td>0.066667</td>\n",
       "      <td>0.000000</td>\n",
       "      <td>0.000000</td>\n",
       "      <td>0.000000</td>\n",
       "      <td>0.000000</td>\n",
       "    </tr>\n",
       "    <tr>\n",
       "      <th>Dovercourt Village, Dufferin</th>\n",
       "      <td>0.000000</td>\n",
       "      <td>0.000000</td>\n",
       "      <td>0.000000</td>\n",
       "      <td>0.000000</td>\n",
       "      <td>0.000000</td>\n",
       "      <td>0.000000</td>\n",
       "      <td>0.000000</td>\n",
       "      <td>0.000000</td>\n",
       "      <td>0.133333</td>\n",
       "      <td>0.000000</td>\n",
       "      <td>...</td>\n",
       "      <td>0.000000</td>\n",
       "      <td>0.000000</td>\n",
       "      <td>0.000000</td>\n",
       "      <td>0.066667</td>\n",
       "      <td>0.000000</td>\n",
       "      <td>0.000000</td>\n",
       "      <td>0.000000</td>\n",
       "      <td>0.000000</td>\n",
       "      <td>0.000000</td>\n",
       "      <td>0.000000</td>\n",
       "    </tr>\n",
       "    <tr>\n",
       "      <th>First Canadian Place, Underground city</th>\n",
       "      <td>0.000000</td>\n",
       "      <td>0.000000</td>\n",
       "      <td>0.000000</td>\n",
       "      <td>0.133333</td>\n",
       "      <td>0.000000</td>\n",
       "      <td>0.000000</td>\n",
       "      <td>0.000000</td>\n",
       "      <td>0.000000</td>\n",
       "      <td>0.066667</td>\n",
       "      <td>0.000000</td>\n",
       "      <td>...</td>\n",
       "      <td>0.133333</td>\n",
       "      <td>0.000000</td>\n",
       "      <td>0.000000</td>\n",
       "      <td>0.000000</td>\n",
       "      <td>0.000000</td>\n",
       "      <td>0.000000</td>\n",
       "      <td>0.000000</td>\n",
       "      <td>0.000000</td>\n",
       "      <td>0.066667</td>\n",
       "      <td>0.000000</td>\n",
       "    </tr>\n",
       "    <tr>\n",
       "      <th>Forest Hill North, Forest Hill West</th>\n",
       "      <td>0.000000</td>\n",
       "      <td>0.000000</td>\n",
       "      <td>0.000000</td>\n",
       "      <td>0.000000</td>\n",
       "      <td>0.000000</td>\n",
       "      <td>0.000000</td>\n",
       "      <td>0.000000</td>\n",
       "      <td>0.000000</td>\n",
       "      <td>0.000000</td>\n",
       "      <td>0.000000</td>\n",
       "      <td>...</td>\n",
       "      <td>0.066667</td>\n",
       "      <td>0.000000</td>\n",
       "      <td>0.000000</td>\n",
       "      <td>0.000000</td>\n",
       "      <td>0.000000</td>\n",
       "      <td>0.000000</td>\n",
       "      <td>0.000000</td>\n",
       "      <td>0.000000</td>\n",
       "      <td>0.000000</td>\n",
       "      <td>0.000000</td>\n",
       "    </tr>\n",
       "    <tr>\n",
       "      <th>Garden District, Ryerson</th>\n",
       "      <td>0.000000</td>\n",
       "      <td>0.000000</td>\n",
       "      <td>0.000000</td>\n",
       "      <td>0.133333</td>\n",
       "      <td>0.000000</td>\n",
       "      <td>0.000000</td>\n",
       "      <td>0.000000</td>\n",
       "      <td>0.000000</td>\n",
       "      <td>0.000000</td>\n",
       "      <td>0.000000</td>\n",
       "      <td>...</td>\n",
       "      <td>0.000000</td>\n",
       "      <td>0.000000</td>\n",
       "      <td>0.000000</td>\n",
       "      <td>0.000000</td>\n",
       "      <td>0.000000</td>\n",
       "      <td>0.000000</td>\n",
       "      <td>0.000000</td>\n",
       "      <td>0.000000</td>\n",
       "      <td>0.066667</td>\n",
       "      <td>0.000000</td>\n",
       "    </tr>\n",
       "    <tr>\n",
       "      <th>Grange Park, Kensington Market, Chinatown</th>\n",
       "      <td>0.000000</td>\n",
       "      <td>0.000000</td>\n",
       "      <td>0.000000</td>\n",
       "      <td>0.000000</td>\n",
       "      <td>0.000000</td>\n",
       "      <td>0.000000</td>\n",
       "      <td>0.000000</td>\n",
       "      <td>0.000000</td>\n",
       "      <td>0.200000</td>\n",
       "      <td>0.066667</td>\n",
       "      <td>...</td>\n",
       "      <td>0.400000</td>\n",
       "      <td>0.000000</td>\n",
       "      <td>0.000000</td>\n",
       "      <td>0.200000</td>\n",
       "      <td>0.000000</td>\n",
       "      <td>0.066667</td>\n",
       "      <td>0.000000</td>\n",
       "      <td>0.000000</td>\n",
       "      <td>0.000000</td>\n",
       "      <td>0.000000</td>\n",
       "    </tr>\n",
       "    <tr>\n",
       "      <th>Harbourfront</th>\n",
       "      <td>0.000000</td>\n",
       "      <td>0.000000</td>\n",
       "      <td>0.000000</td>\n",
       "      <td>0.000000</td>\n",
       "      <td>0.000000</td>\n",
       "      <td>0.066667</td>\n",
       "      <td>0.000000</td>\n",
       "      <td>0.000000</td>\n",
       "      <td>0.066667</td>\n",
       "      <td>0.000000</td>\n",
       "      <td>...</td>\n",
       "      <td>0.000000</td>\n",
       "      <td>0.000000</td>\n",
       "      <td>0.000000</td>\n",
       "      <td>0.000000</td>\n",
       "      <td>0.000000</td>\n",
       "      <td>0.000000</td>\n",
       "      <td>0.000000</td>\n",
       "      <td>0.000000</td>\n",
       "      <td>0.000000</td>\n",
       "      <td>0.000000</td>\n",
       "    </tr>\n",
       "    <tr>\n",
       "      <th>King and Spadina, Harbourfront West, Island airport, Bathurst Quay, CN Tower, South Niagara, Railway Lands</th>\n",
       "      <td>0.000000</td>\n",
       "      <td>0.066667</td>\n",
       "      <td>0.066667</td>\n",
       "      <td>0.000000</td>\n",
       "      <td>0.000000</td>\n",
       "      <td>0.000000</td>\n",
       "      <td>0.000000</td>\n",
       "      <td>0.000000</td>\n",
       "      <td>0.000000</td>\n",
       "      <td>0.000000</td>\n",
       "      <td>...</td>\n",
       "      <td>0.000000</td>\n",
       "      <td>0.000000</td>\n",
       "      <td>0.000000</td>\n",
       "      <td>0.000000</td>\n",
       "      <td>0.000000</td>\n",
       "      <td>0.000000</td>\n",
       "      <td>0.000000</td>\n",
       "      <td>0.000000</td>\n",
       "      <td>0.000000</td>\n",
       "      <td>0.000000</td>\n",
       "    </tr>\n",
       "    <tr>\n",
       "      <th>Lawrence Park</th>\n",
       "      <td>0.000000</td>\n",
       "      <td>0.000000</td>\n",
       "      <td>0.000000</td>\n",
       "      <td>0.000000</td>\n",
       "      <td>0.000000</td>\n",
       "      <td>0.000000</td>\n",
       "      <td>0.000000</td>\n",
       "      <td>0.000000</td>\n",
       "      <td>0.000000</td>\n",
       "      <td>0.000000</td>\n",
       "      <td>...</td>\n",
       "      <td>0.000000</td>\n",
       "      <td>0.000000</td>\n",
       "      <td>0.000000</td>\n",
       "      <td>0.000000</td>\n",
       "      <td>0.000000</td>\n",
       "      <td>0.000000</td>\n",
       "      <td>0.000000</td>\n",
       "      <td>0.000000</td>\n",
       "      <td>0.000000</td>\n",
       "      <td>0.000000</td>\n",
       "    </tr>\n",
       "    <tr>\n",
       "      <th>North Midtown, Yorkville, The Annex</th>\n",
       "      <td>0.066667</td>\n",
       "      <td>0.000000</td>\n",
       "      <td>0.000000</td>\n",
       "      <td>0.133333</td>\n",
       "      <td>0.000000</td>\n",
       "      <td>0.000000</td>\n",
       "      <td>0.000000</td>\n",
       "      <td>0.000000</td>\n",
       "      <td>0.000000</td>\n",
       "      <td>0.066667</td>\n",
       "      <td>...</td>\n",
       "      <td>0.333333</td>\n",
       "      <td>0.000000</td>\n",
       "      <td>0.000000</td>\n",
       "      <td>0.000000</td>\n",
       "      <td>0.000000</td>\n",
       "      <td>0.000000</td>\n",
       "      <td>0.000000</td>\n",
       "      <td>0.000000</td>\n",
       "      <td>0.000000</td>\n",
       "      <td>0.000000</td>\n",
       "    </tr>\n",
       "    <tr>\n",
       "      <th>North Toronto West</th>\n",
       "      <td>0.000000</td>\n",
       "      <td>0.000000</td>\n",
       "      <td>0.000000</td>\n",
       "      <td>0.000000</td>\n",
       "      <td>0.000000</td>\n",
       "      <td>0.000000</td>\n",
       "      <td>0.000000</td>\n",
       "      <td>0.000000</td>\n",
       "      <td>0.000000</td>\n",
       "      <td>0.000000</td>\n",
       "      <td>...</td>\n",
       "      <td>0.000000</td>\n",
       "      <td>0.000000</td>\n",
       "      <td>0.000000</td>\n",
       "      <td>0.066667</td>\n",
       "      <td>0.000000</td>\n",
       "      <td>0.066667</td>\n",
       "      <td>0.000000</td>\n",
       "      <td>0.000000</td>\n",
       "      <td>0.000000</td>\n",
       "      <td>0.000000</td>\n",
       "    </tr>\n",
       "    <tr>\n",
       "      <th>Parkdale Village, Exhibition Place, Brockton</th>\n",
       "      <td>0.066667</td>\n",
       "      <td>0.000000</td>\n",
       "      <td>0.000000</td>\n",
       "      <td>0.066667</td>\n",
       "      <td>0.000000</td>\n",
       "      <td>0.000000</td>\n",
       "      <td>0.000000</td>\n",
       "      <td>0.000000</td>\n",
       "      <td>0.066667</td>\n",
       "      <td>0.133333</td>\n",
       "      <td>...</td>\n",
       "      <td>0.133333</td>\n",
       "      <td>0.000000</td>\n",
       "      <td>0.000000</td>\n",
       "      <td>0.000000</td>\n",
       "      <td>0.000000</td>\n",
       "      <td>0.000000</td>\n",
       "      <td>0.000000</td>\n",
       "      <td>0.000000</td>\n",
       "      <td>0.000000</td>\n",
       "      <td>0.000000</td>\n",
       "    </tr>\n",
       "    <tr>\n",
       "      <th>Queen's Park</th>\n",
       "      <td>0.000000</td>\n",
       "      <td>0.000000</td>\n",
       "      <td>0.000000</td>\n",
       "      <td>0.000000</td>\n",
       "      <td>0.000000</td>\n",
       "      <td>0.000000</td>\n",
       "      <td>0.000000</td>\n",
       "      <td>0.000000</td>\n",
       "      <td>0.066667</td>\n",
       "      <td>0.066667</td>\n",
       "      <td>...</td>\n",
       "      <td>0.066667</td>\n",
       "      <td>0.000000</td>\n",
       "      <td>0.066667</td>\n",
       "      <td>0.000000</td>\n",
       "      <td>0.000000</td>\n",
       "      <td>0.000000</td>\n",
       "      <td>0.000000</td>\n",
       "      <td>0.066667</td>\n",
       "      <td>0.000000</td>\n",
       "      <td>0.000000</td>\n",
       "    </tr>\n",
       "    <tr>\n",
       "      <th>Richmond, Adelaide, King</th>\n",
       "      <td>0.000000</td>\n",
       "      <td>0.000000</td>\n",
       "      <td>0.000000</td>\n",
       "      <td>0.133333</td>\n",
       "      <td>0.000000</td>\n",
       "      <td>0.000000</td>\n",
       "      <td>0.000000</td>\n",
       "      <td>0.000000</td>\n",
       "      <td>0.066667</td>\n",
       "      <td>0.066667</td>\n",
       "      <td>...</td>\n",
       "      <td>0.066667</td>\n",
       "      <td>0.000000</td>\n",
       "      <td>0.000000</td>\n",
       "      <td>0.000000</td>\n",
       "      <td>0.000000</td>\n",
       "      <td>0.000000</td>\n",
       "      <td>0.000000</td>\n",
       "      <td>0.000000</td>\n",
       "      <td>0.066667</td>\n",
       "      <td>0.000000</td>\n",
       "    </tr>\n",
       "    <tr>\n",
       "      <th>Roncesvalles, Parkdale</th>\n",
       "      <td>0.000000</td>\n",
       "      <td>0.000000</td>\n",
       "      <td>0.000000</td>\n",
       "      <td>0.133333</td>\n",
       "      <td>0.133333</td>\n",
       "      <td>0.000000</td>\n",
       "      <td>0.000000</td>\n",
       "      <td>0.000000</td>\n",
       "      <td>0.066667</td>\n",
       "      <td>0.000000</td>\n",
       "      <td>...</td>\n",
       "      <td>0.000000</td>\n",
       "      <td>0.000000</td>\n",
       "      <td>0.000000</td>\n",
       "      <td>0.066667</td>\n",
       "      <td>0.000000</td>\n",
       "      <td>0.000000</td>\n",
       "      <td>0.000000</td>\n",
       "      <td>0.000000</td>\n",
       "      <td>0.000000</td>\n",
       "      <td>0.066667</td>\n",
       "    </tr>\n",
       "    <tr>\n",
       "      <th>Rosedale</th>\n",
       "      <td>0.000000</td>\n",
       "      <td>0.000000</td>\n",
       "      <td>0.000000</td>\n",
       "      <td>0.000000</td>\n",
       "      <td>0.000000</td>\n",
       "      <td>0.000000</td>\n",
       "      <td>0.000000</td>\n",
       "      <td>0.000000</td>\n",
       "      <td>0.000000</td>\n",
       "      <td>0.000000</td>\n",
       "      <td>...</td>\n",
       "      <td>0.000000</td>\n",
       "      <td>0.000000</td>\n",
       "      <td>0.000000</td>\n",
       "      <td>0.000000</td>\n",
       "      <td>0.000000</td>\n",
       "      <td>0.000000</td>\n",
       "      <td>0.000000</td>\n",
       "      <td>0.000000</td>\n",
       "      <td>0.000000</td>\n",
       "      <td>0.000000</td>\n",
       "    </tr>\n",
       "    <tr>\n",
       "      <th>Roselawn</th>\n",
       "      <td>0.000000</td>\n",
       "      <td>0.000000</td>\n",
       "      <td>0.000000</td>\n",
       "      <td>0.000000</td>\n",
       "      <td>0.000000</td>\n",
       "      <td>0.000000</td>\n",
       "      <td>0.000000</td>\n",
       "      <td>0.000000</td>\n",
       "      <td>0.000000</td>\n",
       "      <td>0.000000</td>\n",
       "      <td>...</td>\n",
       "      <td>0.000000</td>\n",
       "      <td>0.000000</td>\n",
       "      <td>0.000000</td>\n",
       "      <td>0.000000</td>\n",
       "      <td>0.000000</td>\n",
       "      <td>0.000000</td>\n",
       "      <td>0.000000</td>\n",
       "      <td>0.000000</td>\n",
       "      <td>0.000000</td>\n",
       "      <td>0.000000</td>\n",
       "    </tr>\n",
       "    <tr>\n",
       "      <th>Runnymede, Swansea</th>\n",
       "      <td>0.000000</td>\n",
       "      <td>0.000000</td>\n",
       "      <td>0.000000</td>\n",
       "      <td>0.066667</td>\n",
       "      <td>0.000000</td>\n",
       "      <td>0.000000</td>\n",
       "      <td>0.000000</td>\n",
       "      <td>0.000000</td>\n",
       "      <td>0.000000</td>\n",
       "      <td>0.000000</td>\n",
       "      <td>...</td>\n",
       "      <td>0.066667</td>\n",
       "      <td>0.000000</td>\n",
       "      <td>0.000000</td>\n",
       "      <td>0.000000</td>\n",
       "      <td>0.000000</td>\n",
       "      <td>0.000000</td>\n",
       "      <td>0.000000</td>\n",
       "      <td>0.000000</td>\n",
       "      <td>0.000000</td>\n",
       "      <td>0.000000</td>\n",
       "    </tr>\n",
       "    <tr>\n",
       "      <th>South Hill, Rathnelly, Forest Hill SE, Deer Park, Summerhill West</th>\n",
       "      <td>0.000000</td>\n",
       "      <td>0.000000</td>\n",
       "      <td>0.000000</td>\n",
       "      <td>0.066667</td>\n",
       "      <td>0.000000</td>\n",
       "      <td>0.000000</td>\n",
       "      <td>0.000000</td>\n",
       "      <td>0.000000</td>\n",
       "      <td>0.000000</td>\n",
       "      <td>0.000000</td>\n",
       "      <td>...</td>\n",
       "      <td>0.066667</td>\n",
       "      <td>0.000000</td>\n",
       "      <td>0.000000</td>\n",
       "      <td>0.066667</td>\n",
       "      <td>0.000000</td>\n",
       "      <td>0.066667</td>\n",
       "      <td>0.000000</td>\n",
       "      <td>0.000000</td>\n",
       "      <td>0.000000</td>\n",
       "      <td>0.000000</td>\n",
       "    </tr>\n",
       "    <tr>\n",
       "      <th>St. James Town</th>\n",
       "      <td>0.000000</td>\n",
       "      <td>0.000000</td>\n",
       "      <td>0.000000</td>\n",
       "      <td>0.133333</td>\n",
       "      <td>0.000000</td>\n",
       "      <td>0.000000</td>\n",
       "      <td>0.000000</td>\n",
       "      <td>0.000000</td>\n",
       "      <td>0.066667</td>\n",
       "      <td>0.000000</td>\n",
       "      <td>...</td>\n",
       "      <td>0.066667</td>\n",
       "      <td>0.000000</td>\n",
       "      <td>0.000000</td>\n",
       "      <td>0.000000</td>\n",
       "      <td>0.000000</td>\n",
       "      <td>0.000000</td>\n",
       "      <td>0.000000</td>\n",
       "      <td>0.000000</td>\n",
       "      <td>0.066667</td>\n",
       "      <td>0.000000</td>\n",
       "    </tr>\n",
       "    <tr>\n",
       "      <th>Stn A PO Boxes 25 The Esplanade</th>\n",
       "      <td>0.000000</td>\n",
       "      <td>0.000000</td>\n",
       "      <td>0.000000</td>\n",
       "      <td>0.133333</td>\n",
       "      <td>0.000000</td>\n",
       "      <td>0.000000</td>\n",
       "      <td>0.000000</td>\n",
       "      <td>0.000000</td>\n",
       "      <td>0.133333</td>\n",
       "      <td>0.000000</td>\n",
       "      <td>...</td>\n",
       "      <td>0.066667</td>\n",
       "      <td>0.000000</td>\n",
       "      <td>0.000000</td>\n",
       "      <td>0.000000</td>\n",
       "      <td>0.000000</td>\n",
       "      <td>0.000000</td>\n",
       "      <td>0.000000</td>\n",
       "      <td>0.000000</td>\n",
       "      <td>0.000000</td>\n",
       "      <td>0.000000</td>\n",
       "    </tr>\n",
       "    <tr>\n",
       "      <th>Studio District</th>\n",
       "      <td>0.000000</td>\n",
       "      <td>0.000000</td>\n",
       "      <td>0.000000</td>\n",
       "      <td>0.266667</td>\n",
       "      <td>0.000000</td>\n",
       "      <td>0.000000</td>\n",
       "      <td>0.066667</td>\n",
       "      <td>0.000000</td>\n",
       "      <td>0.000000</td>\n",
       "      <td>0.133333</td>\n",
       "      <td>...</td>\n",
       "      <td>0.066667</td>\n",
       "      <td>0.000000</td>\n",
       "      <td>0.000000</td>\n",
       "      <td>0.266667</td>\n",
       "      <td>0.000000</td>\n",
       "      <td>0.066667</td>\n",
       "      <td>0.000000</td>\n",
       "      <td>0.000000</td>\n",
       "      <td>0.000000</td>\n",
       "      <td>0.000000</td>\n",
       "    </tr>\n",
       "    <tr>\n",
       "      <th>Summerhill East, Moore Park</th>\n",
       "      <td>0.000000</td>\n",
       "      <td>0.000000</td>\n",
       "      <td>0.000000</td>\n",
       "      <td>0.066667</td>\n",
       "      <td>0.000000</td>\n",
       "      <td>0.000000</td>\n",
       "      <td>0.000000</td>\n",
       "      <td>0.000000</td>\n",
       "      <td>0.000000</td>\n",
       "      <td>0.000000</td>\n",
       "      <td>...</td>\n",
       "      <td>0.000000</td>\n",
       "      <td>0.000000</td>\n",
       "      <td>0.000000</td>\n",
       "      <td>0.066667</td>\n",
       "      <td>0.000000</td>\n",
       "      <td>0.000000</td>\n",
       "      <td>0.000000</td>\n",
       "      <td>0.000000</td>\n",
       "      <td>0.000000</td>\n",
       "      <td>0.000000</td>\n",
       "    </tr>\n",
       "    <tr>\n",
       "      <th>The Beaches</th>\n",
       "      <td>0.000000</td>\n",
       "      <td>0.000000</td>\n",
       "      <td>0.000000</td>\n",
       "      <td>0.000000</td>\n",
       "      <td>0.000000</td>\n",
       "      <td>0.000000</td>\n",
       "      <td>0.000000</td>\n",
       "      <td>0.000000</td>\n",
       "      <td>0.000000</td>\n",
       "      <td>0.000000</td>\n",
       "      <td>...</td>\n",
       "      <td>0.066667</td>\n",
       "      <td>0.000000</td>\n",
       "      <td>0.000000</td>\n",
       "      <td>0.000000</td>\n",
       "      <td>0.000000</td>\n",
       "      <td>0.000000</td>\n",
       "      <td>0.000000</td>\n",
       "      <td>0.000000</td>\n",
       "      <td>0.000000</td>\n",
       "      <td>0.000000</td>\n",
       "    </tr>\n",
       "    <tr>\n",
       "      <th>The Beaches West, India Bazaar</th>\n",
       "      <td>0.000000</td>\n",
       "      <td>0.000000</td>\n",
       "      <td>0.000000</td>\n",
       "      <td>0.000000</td>\n",
       "      <td>0.000000</td>\n",
       "      <td>0.000000</td>\n",
       "      <td>0.000000</td>\n",
       "      <td>0.000000</td>\n",
       "      <td>0.066667</td>\n",
       "      <td>0.000000</td>\n",
       "      <td>...</td>\n",
       "      <td>0.066667</td>\n",
       "      <td>0.000000</td>\n",
       "      <td>0.000000</td>\n",
       "      <td>0.000000</td>\n",
       "      <td>0.000000</td>\n",
       "      <td>0.000000</td>\n",
       "      <td>0.000000</td>\n",
       "      <td>0.000000</td>\n",
       "      <td>0.000000</td>\n",
       "      <td>0.000000</td>\n",
       "    </tr>\n",
       "    <tr>\n",
       "      <th>The Danforth West, Riverdale</th>\n",
       "      <td>0.000000</td>\n",
       "      <td>0.000000</td>\n",
       "      <td>0.000000</td>\n",
       "      <td>0.066667</td>\n",
       "      <td>0.000000</td>\n",
       "      <td>0.000000</td>\n",
       "      <td>0.000000</td>\n",
       "      <td>0.000000</td>\n",
       "      <td>0.000000</td>\n",
       "      <td>0.000000</td>\n",
       "      <td>...</td>\n",
       "      <td>0.000000</td>\n",
       "      <td>0.000000</td>\n",
       "      <td>0.000000</td>\n",
       "      <td>0.000000</td>\n",
       "      <td>0.000000</td>\n",
       "      <td>0.000000</td>\n",
       "      <td>0.000000</td>\n",
       "      <td>0.000000</td>\n",
       "      <td>0.000000</td>\n",
       "      <td>0.000000</td>\n",
       "    </tr>\n",
       "    <tr>\n",
       "      <th>The Junction South, High Park</th>\n",
       "      <td>0.000000</td>\n",
       "      <td>0.000000</td>\n",
       "      <td>0.000000</td>\n",
       "      <td>0.000000</td>\n",
       "      <td>0.000000</td>\n",
       "      <td>0.000000</td>\n",
       "      <td>0.066667</td>\n",
       "      <td>0.000000</td>\n",
       "      <td>0.000000</td>\n",
       "      <td>0.066667</td>\n",
       "      <td>...</td>\n",
       "      <td>0.000000</td>\n",
       "      <td>0.000000</td>\n",
       "      <td>0.000000</td>\n",
       "      <td>0.066667</td>\n",
       "      <td>0.000000</td>\n",
       "      <td>0.000000</td>\n",
       "      <td>0.000000</td>\n",
       "      <td>0.000000</td>\n",
       "      <td>0.000000</td>\n",
       "      <td>0.000000</td>\n",
       "    </tr>\n",
       "    <tr>\n",
       "      <th>Toronto Dominion Centre, Design Exchange</th>\n",
       "      <td>0.000000</td>\n",
       "      <td>0.000000</td>\n",
       "      <td>0.000000</td>\n",
       "      <td>0.133333</td>\n",
       "      <td>0.000000</td>\n",
       "      <td>0.000000</td>\n",
       "      <td>0.000000</td>\n",
       "      <td>0.000000</td>\n",
       "      <td>0.066667</td>\n",
       "      <td>0.000000</td>\n",
       "      <td>...</td>\n",
       "      <td>0.133333</td>\n",
       "      <td>0.000000</td>\n",
       "      <td>0.000000</td>\n",
       "      <td>0.000000</td>\n",
       "      <td>0.000000</td>\n",
       "      <td>0.000000</td>\n",
       "      <td>0.000000</td>\n",
       "      <td>0.000000</td>\n",
       "      <td>0.000000</td>\n",
       "      <td>0.000000</td>\n",
       "    </tr>\n",
       "    <tr>\n",
       "      <th>Trinity, Little Portugal</th>\n",
       "      <td>0.000000</td>\n",
       "      <td>0.000000</td>\n",
       "      <td>0.000000</td>\n",
       "      <td>0.066667</td>\n",
       "      <td>0.000000</td>\n",
       "      <td>0.000000</td>\n",
       "      <td>0.000000</td>\n",
       "      <td>0.000000</td>\n",
       "      <td>0.066667</td>\n",
       "      <td>0.000000</td>\n",
       "      <td>...</td>\n",
       "      <td>0.266667</td>\n",
       "      <td>0.000000</td>\n",
       "      <td>0.000000</td>\n",
       "      <td>0.133333</td>\n",
       "      <td>0.066667</td>\n",
       "      <td>0.133333</td>\n",
       "      <td>0.000000</td>\n",
       "      <td>0.000000</td>\n",
       "      <td>0.000000</td>\n",
       "      <td>0.000000</td>\n",
       "    </tr>\n",
       "    <tr>\n",
       "      <th>Union Station, Toronto Islands, Harbourfront East</th>\n",
       "      <td>0.000000</td>\n",
       "      <td>0.000000</td>\n",
       "      <td>0.000000</td>\n",
       "      <td>0.000000</td>\n",
       "      <td>0.000000</td>\n",
       "      <td>0.000000</td>\n",
       "      <td>0.000000</td>\n",
       "      <td>0.266667</td>\n",
       "      <td>0.066667</td>\n",
       "      <td>0.000000</td>\n",
       "      <td>...</td>\n",
       "      <td>0.066667</td>\n",
       "      <td>0.000000</td>\n",
       "      <td>0.000000</td>\n",
       "      <td>0.000000</td>\n",
       "      <td>0.000000</td>\n",
       "      <td>0.066667</td>\n",
       "      <td>0.000000</td>\n",
       "      <td>0.000000</td>\n",
       "      <td>0.000000</td>\n",
       "      <td>0.000000</td>\n",
       "    </tr>\n",
       "    <tr>\n",
       "      <th>University of Toronto, Harbord</th>\n",
       "      <td>0.000000</td>\n",
       "      <td>0.000000</td>\n",
       "      <td>0.000000</td>\n",
       "      <td>0.000000</td>\n",
       "      <td>0.000000</td>\n",
       "      <td>0.000000</td>\n",
       "      <td>0.000000</td>\n",
       "      <td>0.000000</td>\n",
       "      <td>0.000000</td>\n",
       "      <td>0.133333</td>\n",
       "      <td>...</td>\n",
       "      <td>0.266667</td>\n",
       "      <td>0.000000</td>\n",
       "      <td>0.000000</td>\n",
       "      <td>0.133333</td>\n",
       "      <td>0.000000</td>\n",
       "      <td>0.000000</td>\n",
       "      <td>0.000000</td>\n",
       "      <td>0.000000</td>\n",
       "      <td>0.000000</td>\n",
       "      <td>0.000000</td>\n",
       "    </tr>\n",
       "  </tbody>\n",
       "</table>\n",
       "<p>39 rows × 266 columns</p>\n",
       "</div>"
      ],
      "text/plain": [
       "category_group                                      Accessories Store  \\\n",
       "nhood                                                                   \n",
       "Berczy Park                                                  0.000000   \n",
       "Business Reply Mail Processing Centre 969 Eastern            0.000000   \n",
       "Cabbagetown, St. James Town                                  0.000000   \n",
       "Central Bay Street                                           0.000000   \n",
       "Christie                                                     0.000000   \n",
       "Church and Wellesley                                         0.000000   \n",
       "Commerce Court, Victoria Hotel                               0.000000   \n",
       "Davisville                                                   0.000000   \n",
       "Davisville North                                             0.000000   \n",
       "Dovercourt Village, Dufferin                                 0.000000   \n",
       "First Canadian Place, Underground city                       0.000000   \n",
       "Forest Hill North, Forest Hill West                          0.000000   \n",
       "Garden District, Ryerson                                     0.000000   \n",
       "Grange Park, Kensington Market, Chinatown                    0.000000   \n",
       "Harbourfront                                                 0.000000   \n",
       "King and Spadina, Harbourfront West, Island air...           0.000000   \n",
       "Lawrence Park                                                0.000000   \n",
       "North Midtown, Yorkville, The Annex                          0.066667   \n",
       "North Toronto West                                           0.000000   \n",
       "Parkdale Village, Exhibition Place, Brockton                 0.066667   \n",
       "Queen's Park                                                 0.000000   \n",
       "Richmond, Adelaide, King                                     0.000000   \n",
       "Roncesvalles, Parkdale                                       0.000000   \n",
       "Rosedale                                                     0.000000   \n",
       "Roselawn                                                     0.000000   \n",
       "Runnymede, Swansea                                           0.000000   \n",
       "South Hill, Rathnelly, Forest Hill SE, Deer Par...           0.000000   \n",
       "St. James Town                                               0.000000   \n",
       "Stn A PO Boxes 25 The Esplanade                              0.000000   \n",
       "Studio District                                              0.000000   \n",
       "Summerhill East, Moore Park                                  0.000000   \n",
       "The Beaches                                                  0.000000   \n",
       "The Beaches West, India Bazaar                               0.000000   \n",
       "The Danforth West, Riverdale                                 0.000000   \n",
       "The Junction South, High Park                                0.000000   \n",
       "Toronto Dominion Centre, Design Exchange                     0.000000   \n",
       "Trinity, Little Portugal                                     0.000000   \n",
       "Union Station, Toronto Islands, Harbourfront East            0.000000   \n",
       "University of Toronto, Harbord                               0.000000   \n",
       "\n",
       "category_group                                       Airport  Airport Lounge  \\\n",
       "nhood                                                                          \n",
       "Berczy Park                                         0.000000        0.000000   \n",
       "Business Reply Mail Processing Centre 969 Eastern   0.000000        0.000000   \n",
       "Cabbagetown, St. James Town                         0.000000        0.000000   \n",
       "Central Bay Street                                  0.000000        0.000000   \n",
       "Christie                                            0.000000        0.000000   \n",
       "Church and Wellesley                                0.000000        0.000000   \n",
       "Commerce Court, Victoria Hotel                      0.000000        0.000000   \n",
       "Davisville                                          0.000000        0.000000   \n",
       "Davisville North                                    0.000000        0.000000   \n",
       "Dovercourt Village, Dufferin                        0.000000        0.000000   \n",
       "First Canadian Place, Underground city              0.000000        0.000000   \n",
       "Forest Hill North, Forest Hill West                 0.000000        0.000000   \n",
       "Garden District, Ryerson                            0.000000        0.000000   \n",
       "Grange Park, Kensington Market, Chinatown           0.000000        0.000000   \n",
       "Harbourfront                                        0.000000        0.000000   \n",
       "King and Spadina, Harbourfront West, Island air...  0.066667        0.066667   \n",
       "Lawrence Park                                       0.000000        0.000000   \n",
       "North Midtown, Yorkville, The Annex                 0.000000        0.000000   \n",
       "North Toronto West                                  0.000000        0.000000   \n",
       "Parkdale Village, Exhibition Place, Brockton        0.000000        0.000000   \n",
       "Queen's Park                                        0.000000        0.000000   \n",
       "Richmond, Adelaide, King                            0.000000        0.000000   \n",
       "Roncesvalles, Parkdale                              0.000000        0.000000   \n",
       "Rosedale                                            0.000000        0.000000   \n",
       "Roselawn                                            0.000000        0.000000   \n",
       "Runnymede, Swansea                                  0.000000        0.000000   \n",
       "South Hill, Rathnelly, Forest Hill SE, Deer Par...  0.000000        0.000000   \n",
       "St. James Town                                      0.000000        0.000000   \n",
       "Stn A PO Boxes 25 The Esplanade                     0.000000        0.000000   \n",
       "Studio District                                     0.000000        0.000000   \n",
       "Summerhill East, Moore Park                         0.000000        0.000000   \n",
       "The Beaches                                         0.000000        0.000000   \n",
       "The Beaches West, India Bazaar                      0.000000        0.000000   \n",
       "The Danforth West, Riverdale                        0.000000        0.000000   \n",
       "The Junction South, High Park                       0.000000        0.000000   \n",
       "Toronto Dominion Centre, Design Exchange            0.000000        0.000000   \n",
       "Trinity, Little Portugal                            0.000000        0.000000   \n",
       "Union Station, Toronto Islands, Harbourfront East   0.000000        0.000000   \n",
       "University of Toronto, Harbord                      0.000000        0.000000   \n",
       "\n",
       "category_group                                      American Restaurant  \\\n",
       "nhood                                                                     \n",
       "Berczy Park                                                    0.066667   \n",
       "Business Reply Mail Processing Centre 969 Eastern              0.000000   \n",
       "Cabbagetown, St. James Town                                    0.066667   \n",
       "Central Bay Street                                             0.066667   \n",
       "Christie                                                       0.066667   \n",
       "Church and Wellesley                                           0.066667   \n",
       "Commerce Court, Victoria Hotel                                 0.133333   \n",
       "Davisville                                                     0.000000   \n",
       "Davisville North                                               0.000000   \n",
       "Dovercourt Village, Dufferin                                   0.000000   \n",
       "First Canadian Place, Underground city                         0.133333   \n",
       "Forest Hill North, Forest Hill West                            0.000000   \n",
       "Garden District, Ryerson                                       0.133333   \n",
       "Grange Park, Kensington Market, Chinatown                      0.000000   \n",
       "Harbourfront                                                   0.000000   \n",
       "King and Spadina, Harbourfront West, Island air...             0.000000   \n",
       "Lawrence Park                                                  0.000000   \n",
       "North Midtown, Yorkville, The Annex                            0.133333   \n",
       "North Toronto West                                             0.000000   \n",
       "Parkdale Village, Exhibition Place, Brockton                   0.066667   \n",
       "Queen's Park                                                   0.000000   \n",
       "Richmond, Adelaide, King                                       0.133333   \n",
       "Roncesvalles, Parkdale                                         0.133333   \n",
       "Rosedale                                                       0.000000   \n",
       "Roselawn                                                       0.000000   \n",
       "Runnymede, Swansea                                             0.066667   \n",
       "South Hill, Rathnelly, Forest Hill SE, Deer Par...             0.066667   \n",
       "St. James Town                                                 0.133333   \n",
       "Stn A PO Boxes 25 The Esplanade                                0.133333   \n",
       "Studio District                                                0.266667   \n",
       "Summerhill East, Moore Park                                    0.066667   \n",
       "The Beaches                                                    0.000000   \n",
       "The Beaches West, India Bazaar                                 0.000000   \n",
       "The Danforth West, Riverdale                                   0.066667   \n",
       "The Junction South, High Park                                  0.000000   \n",
       "Toronto Dominion Centre, Design Exchange                       0.133333   \n",
       "Trinity, Little Portugal                                       0.066667   \n",
       "Union Station, Toronto Islands, Harbourfront East              0.000000   \n",
       "University of Toronto, Harbord                                 0.000000   \n",
       "\n",
       "category_group                                      Amphitheater  \\\n",
       "nhood                                                              \n",
       "Berczy Park                                             0.000000   \n",
       "Business Reply Mail Processing Centre 969 Eastern       0.000000   \n",
       "Cabbagetown, St. James Town                             0.000000   \n",
       "Central Bay Street                                      0.000000   \n",
       "Christie                                                0.000000   \n",
       "Church and Wellesley                                    0.000000   \n",
       "Commerce Court, Victoria Hotel                          0.000000   \n",
       "Davisville                                              0.000000   \n",
       "Davisville North                                        0.000000   \n",
       "Dovercourt Village, Dufferin                            0.000000   \n",
       "First Canadian Place, Underground city                  0.000000   \n",
       "Forest Hill North, Forest Hill West                     0.000000   \n",
       "Garden District, Ryerson                                0.000000   \n",
       "Grange Park, Kensington Market, Chinatown               0.000000   \n",
       "Harbourfront                                            0.000000   \n",
       "King and Spadina, Harbourfront West, Island air...      0.000000   \n",
       "Lawrence Park                                           0.000000   \n",
       "North Midtown, Yorkville, The Annex                     0.000000   \n",
       "North Toronto West                                      0.000000   \n",
       "Parkdale Village, Exhibition Place, Brockton            0.000000   \n",
       "Queen's Park                                            0.000000   \n",
       "Richmond, Adelaide, King                                0.000000   \n",
       "Roncesvalles, Parkdale                                  0.133333   \n",
       "Rosedale                                                0.000000   \n",
       "Roselawn                                                0.000000   \n",
       "Runnymede, Swansea                                      0.000000   \n",
       "South Hill, Rathnelly, Forest Hill SE, Deer Par...      0.000000   \n",
       "St. James Town                                          0.000000   \n",
       "Stn A PO Boxes 25 The Esplanade                         0.000000   \n",
       "Studio District                                         0.000000   \n",
       "Summerhill East, Moore Park                             0.000000   \n",
       "The Beaches                                             0.000000   \n",
       "The Beaches West, India Bazaar                          0.000000   \n",
       "The Danforth West, Riverdale                            0.000000   \n",
       "The Junction South, High Park                           0.000000   \n",
       "Toronto Dominion Centre, Design Exchange                0.000000   \n",
       "Trinity, Little Portugal                                0.000000   \n",
       "Union Station, Toronto Islands, Harbourfront East       0.000000   \n",
       "University of Toronto, Harbord                          0.000000   \n",
       "\n",
       "category_group                                      Animal Shelter  \\\n",
       "nhood                                                                \n",
       "Berczy Park                                               0.000000   \n",
       "Business Reply Mail Processing Centre 969 Eastern         0.000000   \n",
       "Cabbagetown, St. James Town                               0.000000   \n",
       "Central Bay Street                                        0.000000   \n",
       "Christie                                                  0.000000   \n",
       "Church and Wellesley                                      0.000000   \n",
       "Commerce Court, Victoria Hotel                            0.000000   \n",
       "Davisville                                                0.000000   \n",
       "Davisville North                                          0.000000   \n",
       "Dovercourt Village, Dufferin                              0.000000   \n",
       "First Canadian Place, Underground city                    0.000000   \n",
       "Forest Hill North, Forest Hill West                       0.000000   \n",
       "Garden District, Ryerson                                  0.000000   \n",
       "Grange Park, Kensington Market, Chinatown                 0.000000   \n",
       "Harbourfront                                              0.066667   \n",
       "King and Spadina, Harbourfront West, Island air...        0.000000   \n",
       "Lawrence Park                                             0.000000   \n",
       "North Midtown, Yorkville, The Annex                       0.000000   \n",
       "North Toronto West                                        0.000000   \n",
       "Parkdale Village, Exhibition Place, Brockton              0.000000   \n",
       "Queen's Park                                              0.000000   \n",
       "Richmond, Adelaide, King                                  0.000000   \n",
       "Roncesvalles, Parkdale                                    0.000000   \n",
       "Rosedale                                                  0.000000   \n",
       "Roselawn                                                  0.000000   \n",
       "Runnymede, Swansea                                        0.000000   \n",
       "South Hill, Rathnelly, Forest Hill SE, Deer Par...        0.000000   \n",
       "St. James Town                                            0.000000   \n",
       "Stn A PO Boxes 25 The Esplanade                           0.000000   \n",
       "Studio District                                           0.000000   \n",
       "Summerhill East, Moore Park                               0.000000   \n",
       "The Beaches                                               0.000000   \n",
       "The Beaches West, India Bazaar                            0.000000   \n",
       "The Danforth West, Riverdale                              0.000000   \n",
       "The Junction South, High Park                             0.000000   \n",
       "Toronto Dominion Centre, Design Exchange                  0.000000   \n",
       "Trinity, Little Portugal                                  0.000000   \n",
       "Union Station, Toronto Islands, Harbourfront East         0.000000   \n",
       "University of Toronto, Harbord                            0.000000   \n",
       "\n",
       "category_group                                      Antique Shop  Aquarium  \\\n",
       "nhood                                                                        \n",
       "Berczy Park                                             0.000000  0.000000   \n",
       "Business Reply Mail Processing Centre 969 Eastern       0.000000  0.000000   \n",
       "Cabbagetown, St. James Town                             0.000000  0.000000   \n",
       "Central Bay Street                                      0.000000  0.000000   \n",
       "Christie                                                0.000000  0.000000   \n",
       "Church and Wellesley                                    0.000000  0.000000   \n",
       "Commerce Court, Victoria Hotel                          0.000000  0.000000   \n",
       "Davisville                                              0.000000  0.000000   \n",
       "Davisville North                                        0.000000  0.000000   \n",
       "Dovercourt Village, Dufferin                            0.000000  0.000000   \n",
       "First Canadian Place, Underground city                  0.000000  0.000000   \n",
       "Forest Hill North, Forest Hill West                     0.000000  0.000000   \n",
       "Garden District, Ryerson                                0.000000  0.000000   \n",
       "Grange Park, Kensington Market, Chinatown               0.000000  0.000000   \n",
       "Harbourfront                                            0.000000  0.000000   \n",
       "King and Spadina, Harbourfront West, Island air...      0.000000  0.000000   \n",
       "Lawrence Park                                           0.000000  0.000000   \n",
       "North Midtown, Yorkville, The Annex                     0.000000  0.000000   \n",
       "North Toronto West                                      0.000000  0.000000   \n",
       "Parkdale Village, Exhibition Place, Brockton            0.000000  0.000000   \n",
       "Queen's Park                                            0.000000  0.000000   \n",
       "Richmond, Adelaide, King                                0.000000  0.000000   \n",
       "Roncesvalles, Parkdale                                  0.000000  0.000000   \n",
       "Rosedale                                                0.000000  0.000000   \n",
       "Roselawn                                                0.000000  0.000000   \n",
       "Runnymede, Swansea                                      0.000000  0.000000   \n",
       "South Hill, Rathnelly, Forest Hill SE, Deer Par...      0.000000  0.000000   \n",
       "St. James Town                                          0.000000  0.000000   \n",
       "Stn A PO Boxes 25 The Esplanade                         0.000000  0.000000   \n",
       "Studio District                                         0.066667  0.000000   \n",
       "Summerhill East, Moore Park                             0.000000  0.000000   \n",
       "The Beaches                                             0.000000  0.000000   \n",
       "The Beaches West, India Bazaar                          0.000000  0.000000   \n",
       "The Danforth West, Riverdale                            0.000000  0.000000   \n",
       "The Junction South, High Park                           0.066667  0.000000   \n",
       "Toronto Dominion Centre, Design Exchange                0.000000  0.000000   \n",
       "Trinity, Little Portugal                                0.000000  0.000000   \n",
       "Union Station, Toronto Islands, Harbourfront East       0.000000  0.266667   \n",
       "University of Toronto, Harbord                          0.000000  0.000000   \n",
       "\n",
       "category_group                                      Art Gallery  \\\n",
       "nhood                                                             \n",
       "Berczy Park                                            0.133333   \n",
       "Business Reply Mail Processing Centre 969 Eastern      0.000000   \n",
       "Cabbagetown, St. James Town                            0.000000   \n",
       "Central Bay Street                                     0.133333   \n",
       "Christie                                               0.066667   \n",
       "Church and Wellesley                                   0.000000   \n",
       "Commerce Court, Victoria Hotel                         0.133333   \n",
       "Davisville                                             0.000000   \n",
       "Davisville North                                       0.000000   \n",
       "Dovercourt Village, Dufferin                           0.133333   \n",
       "First Canadian Place, Underground city                 0.066667   \n",
       "Forest Hill North, Forest Hill West                    0.000000   \n",
       "Garden District, Ryerson                               0.000000   \n",
       "Grange Park, Kensington Market, Chinatown              0.200000   \n",
       "Harbourfront                                           0.066667   \n",
       "King and Spadina, Harbourfront West, Island air...     0.000000   \n",
       "Lawrence Park                                          0.000000   \n",
       "North Midtown, Yorkville, The Annex                    0.000000   \n",
       "North Toronto West                                     0.000000   \n",
       "Parkdale Village, Exhibition Place, Brockton           0.066667   \n",
       "Queen's Park                                           0.066667   \n",
       "Richmond, Adelaide, King                               0.066667   \n",
       "Roncesvalles, Parkdale                                 0.066667   \n",
       "Rosedale                                               0.000000   \n",
       "Roselawn                                               0.000000   \n",
       "Runnymede, Swansea                                     0.000000   \n",
       "South Hill, Rathnelly, Forest Hill SE, Deer Par...     0.000000   \n",
       "St. James Town                                         0.066667   \n",
       "Stn A PO Boxes 25 The Esplanade                        0.133333   \n",
       "Studio District                                        0.000000   \n",
       "Summerhill East, Moore Park                            0.000000   \n",
       "The Beaches                                            0.000000   \n",
       "The Beaches West, India Bazaar                         0.066667   \n",
       "The Danforth West, Riverdale                           0.000000   \n",
       "The Junction South, High Park                          0.000000   \n",
       "Toronto Dominion Centre, Design Exchange               0.066667   \n",
       "Trinity, Little Portugal                               0.066667   \n",
       "Union Station, Toronto Islands, Harbourfront East      0.066667   \n",
       "University of Toronto, Harbord                         0.000000   \n",
       "\n",
       "category_group                                      Arts & Crafts Store  ...  \\\n",
       "nhood                                                                    ...   \n",
       "Berczy Park                                                    0.000000  ...   \n",
       "Business Reply Mail Processing Centre 969 Eastern              0.066667  ...   \n",
       "Cabbagetown, St. James Town                                    0.000000  ...   \n",
       "Central Bay Street                                             0.133333  ...   \n",
       "Christie                                                       0.000000  ...   \n",
       "Church and Wellesley                                           0.066667  ...   \n",
       "Commerce Court, Victoria Hotel                                 0.000000  ...   \n",
       "Davisville                                                     0.000000  ...   \n",
       "Davisville North                                               0.000000  ...   \n",
       "Dovercourt Village, Dufferin                                   0.000000  ...   \n",
       "First Canadian Place, Underground city                         0.000000  ...   \n",
       "Forest Hill North, Forest Hill West                            0.000000  ...   \n",
       "Garden District, Ryerson                                       0.000000  ...   \n",
       "Grange Park, Kensington Market, Chinatown                      0.066667  ...   \n",
       "Harbourfront                                                   0.000000  ...   \n",
       "King and Spadina, Harbourfront West, Island air...             0.000000  ...   \n",
       "Lawrence Park                                                  0.000000  ...   \n",
       "North Midtown, Yorkville, The Annex                            0.066667  ...   \n",
       "North Toronto West                                             0.000000  ...   \n",
       "Parkdale Village, Exhibition Place, Brockton                   0.133333  ...   \n",
       "Queen's Park                                                   0.066667  ...   \n",
       "Richmond, Adelaide, King                                       0.066667  ...   \n",
       "Roncesvalles, Parkdale                                         0.000000  ...   \n",
       "Rosedale                                                       0.000000  ...   \n",
       "Roselawn                                                       0.000000  ...   \n",
       "Runnymede, Swansea                                             0.000000  ...   \n",
       "South Hill, Rathnelly, Forest Hill SE, Deer Par...             0.000000  ...   \n",
       "St. James Town                                                 0.000000  ...   \n",
       "Stn A PO Boxes 25 The Esplanade                                0.000000  ...   \n",
       "Studio District                                                0.133333  ...   \n",
       "Summerhill East, Moore Park                                    0.000000  ...   \n",
       "The Beaches                                                    0.000000  ...   \n",
       "The Beaches West, India Bazaar                                 0.000000  ...   \n",
       "The Danforth West, Riverdale                                   0.000000  ...   \n",
       "The Junction South, High Park                                  0.066667  ...   \n",
       "Toronto Dominion Centre, Design Exchange                       0.000000  ...   \n",
       "Trinity, Little Portugal                                       0.000000  ...   \n",
       "Union Station, Toronto Islands, Harbourfront East              0.000000  ...   \n",
       "University of Toronto, Harbord                                 0.133333  ...   \n",
       "\n",
       "category_group                                      Vegetarian / Vegan Restaurant  \\\n",
       "nhood                                                                               \n",
       "Berczy Park                                                              0.066667   \n",
       "Business Reply Mail Processing Centre 969 Eastern                        0.000000   \n",
       "Cabbagetown, St. James Town                                              0.000000   \n",
       "Central Bay Street                                                       0.133333   \n",
       "Christie                                                                 0.133333   \n",
       "Church and Wellesley                                                     0.066667   \n",
       "Commerce Court, Victoria Hotel                                           0.133333   \n",
       "Davisville                                                               0.066667   \n",
       "Davisville North                                                         0.066667   \n",
       "Dovercourt Village, Dufferin                                             0.000000   \n",
       "First Canadian Place, Underground city                                   0.133333   \n",
       "Forest Hill North, Forest Hill West                                      0.066667   \n",
       "Garden District, Ryerson                                                 0.000000   \n",
       "Grange Park, Kensington Market, Chinatown                                0.400000   \n",
       "Harbourfront                                                             0.000000   \n",
       "King and Spadina, Harbourfront West, Island air...                       0.000000   \n",
       "Lawrence Park                                                            0.000000   \n",
       "North Midtown, Yorkville, The Annex                                      0.333333   \n",
       "North Toronto West                                                       0.000000   \n",
       "Parkdale Village, Exhibition Place, Brockton                             0.133333   \n",
       "Queen's Park                                                             0.066667   \n",
       "Richmond, Adelaide, King                                                 0.066667   \n",
       "Roncesvalles, Parkdale                                                   0.000000   \n",
       "Rosedale                                                                 0.000000   \n",
       "Roselawn                                                                 0.000000   \n",
       "Runnymede, Swansea                                                       0.066667   \n",
       "South Hill, Rathnelly, Forest Hill SE, Deer Par...                       0.066667   \n",
       "St. James Town                                                           0.066667   \n",
       "Stn A PO Boxes 25 The Esplanade                                          0.066667   \n",
       "Studio District                                                          0.066667   \n",
       "Summerhill East, Moore Park                                              0.000000   \n",
       "The Beaches                                                              0.066667   \n",
       "The Beaches West, India Bazaar                                           0.066667   \n",
       "The Danforth West, Riverdale                                             0.000000   \n",
       "The Junction South, High Park                                            0.000000   \n",
       "Toronto Dominion Centre, Design Exchange                                 0.133333   \n",
       "Trinity, Little Portugal                                                 0.266667   \n",
       "Union Station, Toronto Islands, Harbourfront East                        0.066667   \n",
       "University of Toronto, Harbord                                           0.266667   \n",
       "\n",
       "category_group                                      Video Game Store  \\\n",
       "nhood                                                                  \n",
       "Berczy Park                                                 0.000000   \n",
       "Business Reply Mail Processing Centre 969 Eastern           0.000000   \n",
       "Cabbagetown, St. James Town                                 0.000000   \n",
       "Central Bay Street                                          0.000000   \n",
       "Christie                                                    0.000000   \n",
       "Church and Wellesley                                        0.000000   \n",
       "Commerce Court, Victoria Hotel                              0.000000   \n",
       "Davisville                                                  0.066667   \n",
       "Davisville North                                            0.000000   \n",
       "Dovercourt Village, Dufferin                                0.000000   \n",
       "First Canadian Place, Underground city                      0.000000   \n",
       "Forest Hill North, Forest Hill West                         0.000000   \n",
       "Garden District, Ryerson                                    0.000000   \n",
       "Grange Park, Kensington Market, Chinatown                   0.000000   \n",
       "Harbourfront                                                0.000000   \n",
       "King and Spadina, Harbourfront West, Island air...          0.000000   \n",
       "Lawrence Park                                               0.000000   \n",
       "North Midtown, Yorkville, The Annex                         0.000000   \n",
       "North Toronto West                                          0.000000   \n",
       "Parkdale Village, Exhibition Place, Brockton                0.000000   \n",
       "Queen's Park                                                0.000000   \n",
       "Richmond, Adelaide, King                                    0.000000   \n",
       "Roncesvalles, Parkdale                                      0.000000   \n",
       "Rosedale                                                    0.000000   \n",
       "Roselawn                                                    0.000000   \n",
       "Runnymede, Swansea                                          0.000000   \n",
       "South Hill, Rathnelly, Forest Hill SE, Deer Par...          0.000000   \n",
       "St. James Town                                              0.000000   \n",
       "Stn A PO Boxes 25 The Esplanade                             0.000000   \n",
       "Studio District                                             0.000000   \n",
       "Summerhill East, Moore Park                                 0.000000   \n",
       "The Beaches                                                 0.000000   \n",
       "The Beaches West, India Bazaar                              0.000000   \n",
       "The Danforth West, Riverdale                                0.000000   \n",
       "The Junction South, High Park                               0.000000   \n",
       "Toronto Dominion Centre, Design Exchange                    0.000000   \n",
       "Trinity, Little Portugal                                    0.000000   \n",
       "Union Station, Toronto Islands, Harbourfront East           0.000000   \n",
       "University of Toronto, Harbord                              0.000000   \n",
       "\n",
       "category_group                                      Video Store  \\\n",
       "nhood                                                             \n",
       "Berczy Park                                            0.000000   \n",
       "Business Reply Mail Processing Centre 969 Eastern      0.000000   \n",
       "Cabbagetown, St. James Town                            0.000000   \n",
       "Central Bay Street                                     0.000000   \n",
       "Christie                                               0.000000   \n",
       "Church and Wellesley                                   0.066667   \n",
       "Commerce Court, Victoria Hotel                         0.000000   \n",
       "Davisville                                             0.000000   \n",
       "Davisville North                                       0.000000   \n",
       "Dovercourt Village, Dufferin                           0.000000   \n",
       "First Canadian Place, Underground city                 0.000000   \n",
       "Forest Hill North, Forest Hill West                    0.000000   \n",
       "Garden District, Ryerson                               0.000000   \n",
       "Grange Park, Kensington Market, Chinatown              0.000000   \n",
       "Harbourfront                                           0.000000   \n",
       "King and Spadina, Harbourfront West, Island air...     0.000000   \n",
       "Lawrence Park                                          0.000000   \n",
       "North Midtown, Yorkville, The Annex                    0.000000   \n",
       "North Toronto West                                     0.000000   \n",
       "Parkdale Village, Exhibition Place, Brockton           0.000000   \n",
       "Queen's Park                                           0.066667   \n",
       "Richmond, Adelaide, King                               0.000000   \n",
       "Roncesvalles, Parkdale                                 0.000000   \n",
       "Rosedale                                               0.000000   \n",
       "Roselawn                                               0.000000   \n",
       "Runnymede, Swansea                                     0.000000   \n",
       "South Hill, Rathnelly, Forest Hill SE, Deer Par...     0.000000   \n",
       "St. James Town                                         0.000000   \n",
       "Stn A PO Boxes 25 The Esplanade                        0.000000   \n",
       "Studio District                                        0.000000   \n",
       "Summerhill East, Moore Park                            0.000000   \n",
       "The Beaches                                            0.000000   \n",
       "The Beaches West, India Bazaar                         0.000000   \n",
       "The Danforth West, Riverdale                           0.000000   \n",
       "The Junction South, High Park                          0.000000   \n",
       "Toronto Dominion Centre, Design Exchange               0.000000   \n",
       "Trinity, Little Portugal                               0.000000   \n",
       "Union Station, Toronto Islands, Harbourfront East      0.000000   \n",
       "University of Toronto, Harbord                         0.000000   \n",
       "\n",
       "category_group                                      Vietnamese Restaurant  \\\n",
       "nhood                                                                       \n",
       "Berczy Park                                                      0.000000   \n",
       "Business Reply Mail Processing Centre 969 Eastern                0.000000   \n",
       "Cabbagetown, St. James Town                                      0.000000   \n",
       "Central Bay Street                                               0.000000   \n",
       "Christie                                                         0.066667   \n",
       "Church and Wellesley                                             0.000000   \n",
       "Commerce Court, Victoria Hotel                                   0.000000   \n",
       "Davisville                                                       0.066667   \n",
       "Davisville North                                                 0.066667   \n",
       "Dovercourt Village, Dufferin                                     0.066667   \n",
       "First Canadian Place, Underground city                           0.000000   \n",
       "Forest Hill North, Forest Hill West                              0.000000   \n",
       "Garden District, Ryerson                                         0.000000   \n",
       "Grange Park, Kensington Market, Chinatown                        0.200000   \n",
       "Harbourfront                                                     0.000000   \n",
       "King and Spadina, Harbourfront West, Island air...               0.000000   \n",
       "Lawrence Park                                                    0.000000   \n",
       "North Midtown, Yorkville, The Annex                              0.000000   \n",
       "North Toronto West                                               0.066667   \n",
       "Parkdale Village, Exhibition Place, Brockton                     0.000000   \n",
       "Queen's Park                                                     0.000000   \n",
       "Richmond, Adelaide, King                                         0.000000   \n",
       "Roncesvalles, Parkdale                                           0.066667   \n",
       "Rosedale                                                         0.000000   \n",
       "Roselawn                                                         0.000000   \n",
       "Runnymede, Swansea                                               0.000000   \n",
       "South Hill, Rathnelly, Forest Hill SE, Deer Par...               0.066667   \n",
       "St. James Town                                                   0.000000   \n",
       "Stn A PO Boxes 25 The Esplanade                                  0.000000   \n",
       "Studio District                                                  0.266667   \n",
       "Summerhill East, Moore Park                                      0.066667   \n",
       "The Beaches                                                      0.000000   \n",
       "The Beaches West, India Bazaar                                   0.000000   \n",
       "The Danforth West, Riverdale                                     0.000000   \n",
       "The Junction South, High Park                                    0.066667   \n",
       "Toronto Dominion Centre, Design Exchange                         0.000000   \n",
       "Trinity, Little Portugal                                         0.133333   \n",
       "Union Station, Toronto Islands, Harbourfront East                0.000000   \n",
       "University of Toronto, Harbord                                   0.133333   \n",
       "\n",
       "category_group                                      Whisky Bar  Wine Bar  \\\n",
       "nhood                                                                      \n",
       "Berczy Park                                           0.000000  0.000000   \n",
       "Business Reply Mail Processing Centre 969 Eastern     0.000000  0.000000   \n",
       "Cabbagetown, St. James Town                           0.000000  0.000000   \n",
       "Central Bay Street                                    0.000000  0.000000   \n",
       "Christie                                              0.000000  0.066667   \n",
       "Church and Wellesley                                  0.000000  0.000000   \n",
       "Commerce Court, Victoria Hotel                        0.000000  0.000000   \n",
       "Davisville                                            0.000000  0.066667   \n",
       "Davisville North                                      0.000000  0.066667   \n",
       "Dovercourt Village, Dufferin                          0.000000  0.000000   \n",
       "First Canadian Place, Underground city                0.000000  0.000000   \n",
       "Forest Hill North, Forest Hill West                   0.000000  0.000000   \n",
       "Garden District, Ryerson                              0.000000  0.000000   \n",
       "Grange Park, Kensington Market, Chinatown             0.000000  0.066667   \n",
       "Harbourfront                                          0.000000  0.000000   \n",
       "King and Spadina, Harbourfront West, Island air...    0.000000  0.000000   \n",
       "Lawrence Park                                         0.000000  0.000000   \n",
       "North Midtown, Yorkville, The Annex                   0.000000  0.000000   \n",
       "North Toronto West                                    0.000000  0.066667   \n",
       "Parkdale Village, Exhibition Place, Brockton          0.000000  0.000000   \n",
       "Queen's Park                                          0.000000  0.000000   \n",
       "Richmond, Adelaide, King                              0.000000  0.000000   \n",
       "Roncesvalles, Parkdale                                0.000000  0.000000   \n",
       "Rosedale                                              0.000000  0.000000   \n",
       "Roselawn                                              0.000000  0.000000   \n",
       "Runnymede, Swansea                                    0.000000  0.000000   \n",
       "South Hill, Rathnelly, Forest Hill SE, Deer Par...    0.000000  0.066667   \n",
       "St. James Town                                        0.000000  0.000000   \n",
       "Stn A PO Boxes 25 The Esplanade                       0.000000  0.000000   \n",
       "Studio District                                       0.000000  0.066667   \n",
       "Summerhill East, Moore Park                           0.000000  0.000000   \n",
       "The Beaches                                           0.000000  0.000000   \n",
       "The Beaches West, India Bazaar                        0.000000  0.000000   \n",
       "The Danforth West, Riverdale                          0.000000  0.000000   \n",
       "The Junction South, High Park                         0.000000  0.000000   \n",
       "Toronto Dominion Centre, Design Exchange              0.000000  0.000000   \n",
       "Trinity, Little Portugal                              0.066667  0.133333   \n",
       "Union Station, Toronto Islands, Harbourfront East     0.000000  0.066667   \n",
       "University of Toronto, Harbord                        0.000000  0.000000   \n",
       "\n",
       "category_group                                      Wine Shop  Wings Joint  \\\n",
       "nhood                                                                        \n",
       "Berczy Park                                          0.000000     0.000000   \n",
       "Business Reply Mail Processing Centre 969 Eastern    0.000000     0.000000   \n",
       "Cabbagetown, St. James Town                          0.000000     0.000000   \n",
       "Central Bay Street                                   0.000000     0.000000   \n",
       "Christie                                             0.000000     0.000000   \n",
       "Church and Wellesley                                 0.066667     0.066667   \n",
       "Commerce Court, Victoria Hotel                       0.000000     0.000000   \n",
       "Davisville                                           0.000000     0.066667   \n",
       "Davisville North                                     0.000000     0.000000   \n",
       "Dovercourt Village, Dufferin                         0.000000     0.000000   \n",
       "First Canadian Place, Underground city               0.000000     0.000000   \n",
       "Forest Hill North, Forest Hill West                  0.000000     0.000000   \n",
       "Garden District, Ryerson                             0.000000     0.000000   \n",
       "Grange Park, Kensington Market, Chinatown            0.000000     0.000000   \n",
       "Harbourfront                                         0.000000     0.000000   \n",
       "King and Spadina, Harbourfront West, Island air...   0.000000     0.000000   \n",
       "Lawrence Park                                        0.000000     0.000000   \n",
       "North Midtown, Yorkville, The Annex                  0.000000     0.000000   \n",
       "North Toronto West                                   0.000000     0.000000   \n",
       "Parkdale Village, Exhibition Place, Brockton         0.000000     0.000000   \n",
       "Queen's Park                                         0.000000     0.066667   \n",
       "Richmond, Adelaide, King                             0.000000     0.000000   \n",
       "Roncesvalles, Parkdale                               0.000000     0.000000   \n",
       "Rosedale                                             0.000000     0.000000   \n",
       "Roselawn                                             0.000000     0.000000   \n",
       "Runnymede, Swansea                                   0.000000     0.000000   \n",
       "South Hill, Rathnelly, Forest Hill SE, Deer Par...   0.000000     0.000000   \n",
       "St. James Town                                       0.000000     0.000000   \n",
       "Stn A PO Boxes 25 The Esplanade                      0.000000     0.000000   \n",
       "Studio District                                      0.000000     0.000000   \n",
       "Summerhill East, Moore Park                          0.000000     0.000000   \n",
       "The Beaches                                          0.000000     0.000000   \n",
       "The Beaches West, India Bazaar                       0.000000     0.000000   \n",
       "The Danforth West, Riverdale                         0.000000     0.000000   \n",
       "The Junction South, High Park                        0.000000     0.000000   \n",
       "Toronto Dominion Centre, Design Exchange             0.000000     0.000000   \n",
       "Trinity, Little Portugal                             0.000000     0.000000   \n",
       "Union Station, Toronto Islands, Harbourfront East    0.000000     0.000000   \n",
       "University of Toronto, Harbord                       0.000000     0.000000   \n",
       "\n",
       "category_group                                      Women's Store       Zoo  \n",
       "nhood                                                                        \n",
       "Berczy Park                                              0.000000  0.000000  \n",
       "Business Reply Mail Processing Centre 969 Eastern        0.000000  0.000000  \n",
       "Cabbagetown, St. James Town                              0.000000  0.000000  \n",
       "Central Bay Street                                       0.000000  0.000000  \n",
       "Christie                                                 0.000000  0.000000  \n",
       "Church and Wellesley                                     0.000000  0.000000  \n",
       "Commerce Court, Victoria Hotel                           0.066667  0.000000  \n",
       "Davisville                                               0.000000  0.000000  \n",
       "Davisville North                                         0.000000  0.000000  \n",
       "Dovercourt Village, Dufferin                             0.000000  0.000000  \n",
       "First Canadian Place, Underground city                   0.066667  0.000000  \n",
       "Forest Hill North, Forest Hill West                      0.000000  0.000000  \n",
       "Garden District, Ryerson                                 0.066667  0.000000  \n",
       "Grange Park, Kensington Market, Chinatown                0.000000  0.000000  \n",
       "Harbourfront                                             0.000000  0.000000  \n",
       "King and Spadina, Harbourfront West, Island air...       0.000000  0.000000  \n",
       "Lawrence Park                                            0.000000  0.000000  \n",
       "North Midtown, Yorkville, The Annex                      0.000000  0.000000  \n",
       "North Toronto West                                       0.000000  0.000000  \n",
       "Parkdale Village, Exhibition Place, Brockton             0.000000  0.000000  \n",
       "Queen's Park                                             0.000000  0.000000  \n",
       "Richmond, Adelaide, King                                 0.066667  0.000000  \n",
       "Roncesvalles, Parkdale                                   0.000000  0.066667  \n",
       "Rosedale                                                 0.000000  0.000000  \n",
       "Roselawn                                                 0.000000  0.000000  \n",
       "Runnymede, Swansea                                       0.000000  0.000000  \n",
       "South Hill, Rathnelly, Forest Hill SE, Deer Par...       0.000000  0.000000  \n",
       "St. James Town                                           0.066667  0.000000  \n",
       "Stn A PO Boxes 25 The Esplanade                          0.000000  0.000000  \n",
       "Studio District                                          0.000000  0.000000  \n",
       "Summerhill East, Moore Park                              0.000000  0.000000  \n",
       "The Beaches                                              0.000000  0.000000  \n",
       "The Beaches West, India Bazaar                           0.000000  0.000000  \n",
       "The Danforth West, Riverdale                             0.000000  0.000000  \n",
       "The Junction South, High Park                            0.000000  0.000000  \n",
       "Toronto Dominion Centre, Design Exchange                 0.000000  0.000000  \n",
       "Trinity, Little Portugal                                 0.000000  0.000000  \n",
       "Union Station, Toronto Islands, Harbourfront East        0.000000  0.000000  \n",
       "University of Toronto, Harbord                           0.000000  0.000000  \n",
       "\n",
       "[39 rows x 266 columns]"
      ]
     },
     "execution_count": 306,
     "metadata": {},
     "output_type": "execute_result"
    }
   ],
   "source": [
    "nhood_categories_scaled = nhood_categories / nhood_categories.max().max()\n",
    "nhood_categories_scaled"
   ]
  },
  {
   "cell_type": "markdown",
   "metadata": {},
   "source": [
    "## Modeling & evaluation"
   ]
  },
  {
   "cell_type": "markdown",
   "metadata": {},
   "source": [
    "### Category grouping at level 2"
   ]
  },
  {
   "cell_type": "markdown",
   "metadata": {},
   "source": [
    "#### k-means"
   ]
  },
  {
   "cell_type": "code",
   "execution_count": 325,
   "metadata": {},
   "outputs": [
    {
     "data": {
      "text/plain": [
       "GridSearchCV(cv=3, error_score='raise-deprecating',\n",
       "             estimator=KMeans(algorithm='auto', copy_x=True, init='k-means++',\n",
       "                              max_iter=300, n_clusters=8, n_init=10,\n",
       "                              n_jobs=None, precompute_distances='auto',\n",
       "                              random_state=None, tol=0.0001, verbose=0),\n",
       "             iid='warn', n_jobs=-1, param_grid={'n_clusters': range(2, 11)},\n",
       "             pre_dispatch='2*n_jobs', refit=True, return_train_score=False,\n",
       "             scoring=None, verbose=0)"
      ]
     },
     "execution_count": 325,
     "metadata": {},
     "output_type": "execute_result"
    }
   ],
   "source": [
    "gs_params = {\n",
    "    'n_clusters': range(2,11)\n",
    "}\n",
    "\n",
    "gs = GridSearchCV(KMeans(),\n",
    "                  gs_params,\n",
    "                  n_jobs=-1,\n",
    "                  cv=3)\n",
    "\n",
    "gs.fit(nhood_categories_scaled)"
   ]
  },
  {
   "cell_type": "code",
   "execution_count": 327,
   "metadata": {},
   "outputs": [
    {
     "data": {
      "text/plain": [
       "array([3, 2, 2, 0, 1, 0, 3, 0, 0, 1, 3, 2, 0, 1, 0, 2, 2, 1, 2, 1, 0, 3,\n",
       "       1, 2, 2, 1, 0, 3, 3, 1, 2, 2, 2, 1, 1, 3, 1, 3, 1], dtype=int32)"
      ]
     },
     "execution_count": 327,
     "metadata": {},
     "output_type": "execute_result"
    }
   ],
   "source": [
    "gs.best_estimator_.labels_"
   ]
  },
  {
   "cell_type": "code",
   "execution_count": 329,
   "metadata": {},
   "outputs": [
    {
     "data": {
      "text/plain": [
       "{'n_clusters': 4}"
      ]
     },
     "execution_count": 329,
     "metadata": {},
     "output_type": "execute_result"
    }
   ],
   "source": [
    "gs.best_params_"
   ]
  },
  {
   "cell_type": "code",
   "execution_count": 326,
   "metadata": {},
   "outputs": [
    {
     "data": {
      "text/plain": [
       "0.17578604009586238"
      ]
     },
     "execution_count": 326,
     "metadata": {},
     "output_type": "execute_result"
    }
   ],
   "source": [
    "silhouette_score(nhood_categories_scaled, gs.best_estimator_.labels_)"
   ]
  },
  {
   "cell_type": "markdown",
   "metadata": {},
   "source": [
    "#### DBSCAN"
   ]
  },
  {
   "cell_type": "code",
   "execution_count": 410,
   "metadata": {
    "scrolled": true
   },
   "outputs": [
    {
     "data": {
      "application/vnd.jupyter.widget-view+json": {
       "model_id": "",
       "version_major": 2,
       "version_minor": 0
      },
      "text/plain": [
       "HBox(children=(IntProgress(value=0, max=10), HTML(value='')))"
      ]
     },
     "metadata": {},
     "output_type": "display_data"
    },
    {
     "name": "stdout",
     "output_type": "stream",
     "text": [
      "\n"
     ]
    }
   ],
   "source": [
    "scores = []\n",
    "counter = 0\n",
    "bp = {\n",
    "    'eps': 1e9,\n",
    "    'min_samples': 1e9,\n",
    "    'sil_score': -2\n",
    "} # best params\n",
    "\n",
    "for eps in tqdm(np.logspace(-1, 1, 10)):\n",
    "    for min_samples in range(2, 11):\n",
    "        for metric in ['euclidean', 'chebyshev', 'manhattan']:\n",
    "            counter += 1\n",
    "            dbscan = DBSCAN(eps, min_samples, metric)\n",
    "            dbscan.fit(nhood_categories_scaled)\n",
    "            try:\n",
    "                sil_score = silhouette_score(nhood_categories_scaled, dbscan.labels_)\n",
    "            except ValueError:\n",
    "                sil_score = -1.01\n",
    "            \n",
    "            r = dbscan.get_params() # results\n",
    "            r['sil_score'] = sil_score\n",
    "            r['iteration'] = counter\n",
    "            r['labels'] = dbscan.labels_\n",
    "            scores.append(r)\n",
    "            \n",
    "            if r['sil_score'] > bp['sil_score'] and len(set(r['labels'])) > 2:\n",
    "                bp = r.copy()\n",
    "            elif np.isclose(r['sil_score'], bp['sil_score']):\n",
    "                if r['eps'] < bp['eps'] or r['min_samples'] < bp['min_samples']:\n",
    "                    bp = r.copy()"
   ]
  },
  {
   "cell_type": "code",
   "execution_count": 397,
   "metadata": {},
   "outputs": [
    {
     "data": {
      "image/png": "[encoded data removed]",
      "text/plain": [
       "<Figure size 432x288 with 1 Axes>"
      ]
     },
     "metadata": {
      "needs_background": "light"
     },
     "output_type": "display_data"
    }
   ],
   "source": [
    "df_dbscan = pd.DataFrame(scores)\n",
    "df_dbscan['sil_score'].sort_values(ascending=False).reset_index(drop=True).plot(xticks=[]);"
   ]
  },
  {
   "cell_type": "code",
   "execution_count": 411,
   "metadata": {},
   "outputs": [
    {
     "data": {
      "text/plain": [
       "{'algorithm': 'auto',\n",
       " 'eps': 3.593813663804626,\n",
       " 'leaf_size': 30,\n",
       " 'metric': 'manhattan',\n",
       " 'metric_params': None,\n",
       " 'min_samples': 2,\n",
       " 'n_jobs': None,\n",
       " 'p': None,\n",
       " 'sil_score': 0.13993877863841364,\n",
       " 'iteration': 192,\n",
       " 'labels': array([ 0,  1,  1, -1, -1,  2,  0, -1, -1, -1,  0,  1, -1, -1, -1,  1,  1,\n",
       "        -1,  1, -1,  2,  0, -1,  1,  1, -1,  1,  0,  0, -1,  1, -1,  1, -1,\n",
       "        -1,  0, -1, -1, -1])}"
      ]
     },
     "execution_count": 411,
     "metadata": {},
     "output_type": "execute_result"
    }
   ],
   "source": [
    "bp"
   ]
  },
  {
   "cell_type": "markdown",
   "metadata": {},
   "source": [
    "### Category grouping at level 3\n",
    "\n",
    "Since our silhouette scores were poor with our category grouping at level 2, let's try level 3"
   ]
  },
  {
   "cell_type": "code",
   "execution_count": 436,
   "metadata": {},
   "outputs": [],
   "source": [
    "toronto_venues['category_group'] = toronto_venues['category'].apply(\n",
    "    lambda x: map_category_group(x, 3))"
   ]
  },
  {
   "cell_type": "code",
   "execution_count": 437,
   "metadata": {},
   "outputs": [],
   "source": [
    "nhood_categories = pd.crosstab(toronto_venues.nhood, toronto_venues.category_group)\n",
    "nhood_categories_scaled = nhood_categories / nhood_categories.max().max()"
   ]
  },
  {
   "cell_type": "markdown",
   "metadata": {},
   "source": [
    "#### k-means"
   ]
  },
  {
   "cell_type": "code",
   "execution_count": 438,
   "metadata": {},
   "outputs": [
    {
     "data": {
      "text/plain": [
       "GridSearchCV(cv=3, error_score='raise-deprecating',\n",
       "             estimator=KMeans(algorithm='auto', copy_x=True, init='k-means++',\n",
       "                              max_iter=300, n_clusters=8, n_init=10,\n",
       "                              n_jobs=None, precompute_distances='auto',\n",
       "                              random_state=None, tol=0.0001, verbose=0),\n",
       "             iid='warn', n_jobs=-1, param_grid={'n_clusters': range(2, 11)},\n",
       "             pre_dispatch='2*n_jobs', refit=True, return_train_score=False,\n",
       "             scoring=None, verbose=0)"
      ]
     },
     "execution_count": 438,
     "metadata": {},
     "output_type": "execute_result"
    }
   ],
   "source": [
    "gs_params = {\n",
    "    'n_clusters': range(2,11)\n",
    "}\n",
    "\n",
    "gs = GridSearchCV(KMeans(),\n",
    "                  gs_params,\n",
    "                  n_jobs=-1,\n",
    "                  cv=3)\n",
    "\n",
    "gs.fit(nhood_categories_scaled)"
   ]
  },
  {
   "cell_type": "code",
   "execution_count": 439,
   "metadata": {},
   "outputs": [
    {
     "data": {
      "text/plain": [
       "array([1, 3, 3, 0, 3, 0, 1, 4, 4, 3, 1, 3, 0, 2, 4, 3, 3, 2, 3, 2, 0, 1,\n",
       "       3, 3, 3, 4, 3, 1, 1, 2, 3, 3, 3, 4, 2, 1, 2, 1, 2], dtype=int32)"
      ]
     },
     "execution_count": 439,
     "metadata": {},
     "output_type": "execute_result"
    }
   ],
   "source": [
    "gs.best_estimator_.labels_"
   ]
  },
  {
   "cell_type": "code",
   "execution_count": 440,
   "metadata": {},
   "outputs": [
    {
     "data": {
      "text/plain": [
       "{'n_clusters': 5}"
      ]
     },
     "execution_count": 440,
     "metadata": {},
     "output_type": "execute_result"
    }
   ],
   "source": [
    "gs.best_params_"
   ]
  },
  {
   "cell_type": "code",
   "execution_count": 441,
   "metadata": {},
   "outputs": [
    {
     "data": {
      "text/plain": [
       "0.1603972625695662"
      ]
     },
     "execution_count": 441,
     "metadata": {},
     "output_type": "execute_result"
    }
   ],
   "source": [
    "silhouette_score(nhood_categories_scaled, gs.best_estimator_.labels_)"
   ]
  },
  {
   "cell_type": "markdown",
   "metadata": {},
   "source": [
    "#### DBSCAN"
   ]
  },
  {
   "cell_type": "code",
   "execution_count": 442,
   "metadata": {
    "scrolled": true
   },
   "outputs": [
    {
     "data": {
      "application/vnd.jupyter.widget-view+json": {
       "model_id": "",
       "version_major": 2,
       "version_minor": 0
      },
      "text/plain": [
       "HBox(children=(IntProgress(value=0, max=10), HTML(value='')))"
      ]
     },
     "metadata": {},
     "output_type": "display_data"
    },
    {
     "name": "stdout",
     "output_type": "stream",
     "text": [
      "\n"
     ]
    }
   ],
   "source": [
    "scores = []\n",
    "counter = 0\n",
    "bp = {\n",
    "    'eps': 1e9,\n",
    "    'min_samples': 1e9,\n",
    "    'sil_score': -2\n",
    "} # best params\n",
    "\n",
    "for eps in tqdm(np.logspace(-1, 1, 10)):\n",
    "    for min_samples in range(2, 11):\n",
    "        for metric in ['euclidean', 'chebyshev', 'manhattan']:\n",
    "            counter += 1\n",
    "            dbscan = DBSCAN(eps, min_samples, metric)\n",
    "            dbscan.fit(nhood_categories_scaled)\n",
    "            try:\n",
    "                sil_score = silhouette_score(nhood_categories_scaled, dbscan.labels_)\n",
    "            except ValueError:\n",
    "                sil_score = -1.01\n",
    "            \n",
    "            r = dbscan.get_params() # results\n",
    "            r['sil_score'] = sil_score\n",
    "            r['iteration'] = counter\n",
    "            r['labels'] = dbscan.labels_\n",
    "            scores.append(r)\n",
    "            \n",
    "            if r['sil_score'] > bp['sil_score'] and len(set(r['labels'])) > 2:\n",
    "                bp = r.copy()\n",
    "            elif np.isclose(r['sil_score'], bp['sil_score']):\n",
    "                if r['eps'] < bp['eps'] or r['min_samples'] < bp['min_samples']:\n",
    "                    bp = r.copy()"
   ]
  },
  {
   "cell_type": "code",
   "execution_count": 443,
   "metadata": {},
   "outputs": [
    {
     "data": {
      "image/png": "[encoded data removed]",
      "text/plain": [
       "<Figure size 432x288 with 1 Axes>"
      ]
     },
     "metadata": {
      "needs_background": "light"
     },
     "output_type": "display_data"
    }
   ],
   "source": [
    "df_dbscan = pd.DataFrame(scores)\n",
    "df_dbscan['sil_score'].sort_values(ascending=False).reset_index(drop=True).plot(xticks=[]);"
   ]
  },
  {
   "cell_type": "code",
   "execution_count": 444,
   "metadata": {},
   "outputs": [
    {
     "data": {
      "text/plain": [
       "{'algorithm': 'auto',\n",
       " 'eps': 0.774263682681127,\n",
       " 'leaf_size': 30,\n",
       " 'metric': 'euclidean',\n",
       " 'metric_params': None,\n",
       " 'min_samples': 8,\n",
       " 'n_jobs': None,\n",
       " 'p': None,\n",
       " 'sil_score': 0.1421974423431424,\n",
       " 'iteration': 127,\n",
       " 'labels': array([ 1,  0,  0,  1, -1, -1,  1, -1, -1,  0,  1,  0,  1, -1, -1,  0,  0,\n",
       "        -1,  0, -1, -1,  1, -1,  0,  0, -1,  0,  1,  1, -1,  0, -1,  0, -1,\n",
       "        -1,  1, -1,  1, -1])}"
      ]
     },
     "execution_count": 444,
     "metadata": {},
     "output_type": "execute_result"
    }
   ],
   "source": [
    "bp"
   ]
  },
  {
   "cell_type": "markdown",
   "metadata": {},
   "source": [
    "### Category grouping at level 1\n",
    "\n",
    "Since our silhouette scores were _still_ poor with our category grouping at level 3, let's try level 1"
   ]
  },
  {
   "cell_type": "code",
   "execution_count": 445,
   "metadata": {},
   "outputs": [],
   "source": [
    "toronto_venues['category_group'] = toronto_venues['category'].apply(\n",
    "    lambda x: map_category_group(x, 1))"
   ]
  },
  {
   "cell_type": "code",
   "execution_count": 446,
   "metadata": {},
   "outputs": [],
   "source": [
    "nhood_categories = pd.crosstab(toronto_venues.nhood, toronto_venues.category_group)\n",
    "nhood_categories_scaled = nhood_categories / nhood_categories.max().max()"
   ]
  },
  {
   "cell_type": "markdown",
   "metadata": {},
   "source": [
    "#### k-means"
   ]
  },
  {
   "cell_type": "code",
   "execution_count": 447,
   "metadata": {},
   "outputs": [
    {
     "data": {
      "text/plain": [
       "GridSearchCV(cv=3, error_score='raise-deprecating',\n",
       "             estimator=KMeans(algorithm='auto', copy_x=True, init='k-means++',\n",
       "                              max_iter=300, n_clusters=8, n_init=10,\n",
       "                              n_jobs=None, precompute_distances='auto',\n",
       "                              random_state=None, tol=0.0001, verbose=0),\n",
       "             iid='warn', n_jobs=-1, param_grid={'n_clusters': range(2, 11)},\n",
       "             pre_dispatch='2*n_jobs', refit=True, return_train_score=False,\n",
       "             scoring=None, verbose=0)"
      ]
     },
     "execution_count": 447,
     "metadata": {},
     "output_type": "execute_result"
    }
   ],
   "source": [
    "gs_params = {\n",
    "    'n_clusters': range(2,11)\n",
    "}\n",
    "\n",
    "gs = GridSearchCV(KMeans(),\n",
    "                  gs_params,\n",
    "                  n_jobs=-1,\n",
    "                  cv=3)\n",
    "\n",
    "gs.fit(nhood_categories_scaled)"
   ]
  },
  {
   "cell_type": "code",
   "execution_count": 448,
   "metadata": {},
   "outputs": [
    {
     "data": {
      "text/plain": [
       "array([3, 2, 2, 4, 0, 4, 3, 4, 1, 1, 3, 2, 4, 0, 1, 2, 2, 1, 2, 1, 4, 3,\n",
       "       1, 2, 2, 1, 4, 3, 3, 1, 2, 1, 2, 1, 1, 3, 0, 3, 0], dtype=int32)"
      ]
     },
     "execution_count": 448,
     "metadata": {},
     "output_type": "execute_result"
    }
   ],
   "source": [
    "gs.best_estimator_.labels_"
   ]
  },
  {
   "cell_type": "code",
   "execution_count": 449,
   "metadata": {},
   "outputs": [
    {
     "data": {
      "text/plain": [
       "{'n_clusters': 5}"
      ]
     },
     "execution_count": 449,
     "metadata": {},
     "output_type": "execute_result"
    }
   ],
   "source": [
    "gs.best_params_"
   ]
  },
  {
   "cell_type": "code",
   "execution_count": 450,
   "metadata": {},
   "outputs": [
    {
     "data": {
      "text/plain": [
       "0.1916653274460645"
      ]
     },
     "execution_count": 450,
     "metadata": {},
     "output_type": "execute_result"
    }
   ],
   "source": [
    "silhouette_score(nhood_categories_scaled, gs.best_estimator_.labels_)"
   ]
  },
  {
   "cell_type": "markdown",
   "metadata": {},
   "source": [
    "#### DBSCAN"
   ]
  },
  {
   "cell_type": "code",
   "execution_count": 451,
   "metadata": {
    "scrolled": true
   },
   "outputs": [
    {
     "data": {
      "application/vnd.jupyter.widget-view+json": {
       "model_id": "af766cbd08134713b660e52744320ba6",
       "version_major": 2,
       "version_minor": 0
      },
      "text/plain": [
       "HBox(children=(IntProgress(value=0, max=10), HTML(value='')))"
      ]
     },
     "metadata": {},
     "output_type": "display_data"
    },
    {
     "name": "stdout",
     "output_type": "stream",
     "text": [
      "\n"
     ]
    }
   ],
   "source": [
    "scores = []\n",
    "counter = 0\n",
    "bp = {\n",
    "    'eps': 1e9,\n",
    "    'min_samples': 1e9,\n",
    "    'sil_score': -2\n",
    "} # best params\n",
    "\n",
    "for eps in tqdm(np.logspace(-1, 1, 10)):\n",
    "    for min_samples in range(2, 11):\n",
    "        for metric in ['euclidean', 'chebyshev', 'manhattan']:\n",
    "            counter += 1\n",
    "            dbscan = DBSCAN(eps, min_samples, metric)\n",
    "            dbscan.fit(nhood_categories_scaled)\n",
    "            try:\n",
    "                sil_score = silhouette_score(nhood_categories_scaled, dbscan.labels_)\n",
    "            except ValueError:\n",
    "                sil_score = -1.01\n",
    "            \n",
    "            r = dbscan.get_params() # results\n",
    "            r['sil_score'] = sil_score\n",
    "            r['iteration'] = counter\n",
    "            r['labels'] = dbscan.labels_\n",
    "            scores.append(r)\n",
    "            \n",
    "            if r['sil_score'] > bp['sil_score'] and len(set(r['labels'])) > 2:\n",
    "                bp = r.copy()\n",
    "            elif np.isclose(r['sil_score'], bp['sil_score']):\n",
    "                if r['eps'] < bp['eps'] or r['min_samples'] < bp['min_samples']:\n",
    "                    bp = r.copy()"
   ]
  },
  {
   "cell_type": "code",
   "execution_count": 452,
   "metadata": {},
   "outputs": [
    {
     "data": {
      "image/png": "[encoded data removed]",
      "text/plain": [
       "<Figure size 432x288 with 1 Axes>"
      ]
     },
     "metadata": {
      "needs_background": "light"
     },
     "output_type": "display_data"
    }
   ],
   "source": [
    "df_dbscan = pd.DataFrame(scores)\n",
    "df_dbscan['sil_score'].sort_values(ascending=False).reset_index(drop=True).plot(xticks=[]);"
   ]
  },
  {
   "cell_type": "code",
   "execution_count": 453,
   "metadata": {
    "scrolled": true
   },
   "outputs": [
    {
     "data": {
      "text/plain": [
       "{'algorithm': 'auto',\n",
       " 'eps': 3.593813663804626,\n",
       " 'leaf_size': 30,\n",
       " 'metric': 'manhattan',\n",
       " 'metric_params': None,\n",
       " 'min_samples': 2,\n",
       " 'n_jobs': None,\n",
       " 'p': None,\n",
       " 'sil_score': 0.18211960219286935,\n",
       " 'iteration': 192,\n",
       " 'labels': array([ 0,  1,  1,  2, -1,  2,  0,  3,  3,  1,  0,  1,  2, -1, -1,  1,  1,\n",
       "        -1,  1, -1,  2,  0, -1,  1,  1, -1,  1,  0,  0, -1,  1, -1,  1, -1,\n",
       "        -1,  0, -1,  0, -1])}"
      ]
     },
     "execution_count": 453,
     "metadata": {},
     "output_type": "execute_result"
    }
   ],
   "source": [
    "bp"
   ]
  },
  {
   "cell_type": "markdown",
   "metadata": {},
   "source": [
    "### Without category grouping\n",
    "\n",
    "For good measure, let's check clustering with raw categories"
   ]
  },
  {
   "cell_type": "code",
   "execution_count": 454,
   "metadata": {},
   "outputs": [],
   "source": [
    "nhood_categories = pd.crosstab(toronto_venues.nhood, toronto_venues.category)\n",
    "nhood_categories_scaled = nhood_categories / nhood_categories.max().max()"
   ]
  },
  {
   "cell_type": "markdown",
   "metadata": {},
   "source": [
    "#### k-means"
   ]
  },
  {
   "cell_type": "code",
   "execution_count": 455,
   "metadata": {},
   "outputs": [
    {
     "data": {
      "text/plain": [
       "GridSearchCV(cv=3, error_score='raise-deprecating',\n",
       "             estimator=KMeans(algorithm='auto', copy_x=True, init='k-means++',\n",
       "                              max_iter=300, n_clusters=8, n_init=10,\n",
       "                              n_jobs=None, precompute_distances='auto',\n",
       "                              random_state=None, tol=0.0001, verbose=0),\n",
       "             iid='warn', n_jobs=-1, param_grid={'n_clusters': range(2, 11)},\n",
       "             pre_dispatch='2*n_jobs', refit=True, return_train_score=False,\n",
       "             scoring=None, verbose=0)"
      ]
     },
     "execution_count": 455,
     "metadata": {},
     "output_type": "execute_result"
    }
   ],
   "source": [
    "gs_params = {\n",
    "    'n_clusters': range(2,11)\n",
    "}\n",
    "\n",
    "gs = GridSearchCV(KMeans(),\n",
    "                  gs_params,\n",
    "                  n_jobs=-1,\n",
    "                  cv=3)\n",
    "\n",
    "gs.fit(nhood_categories_scaled)"
   ]
  },
  {
   "cell_type": "code",
   "execution_count": 456,
   "metadata": {},
   "outputs": [
    {
     "data": {
      "text/plain": [
       "array([1, 4, 4, 1, 2, 1, 1, 0, 0, 0, 1, 4, 1, 2, 0, 4, 4, 2, 4, 2, 1, 1,\n",
       "       0, 4, 4, 0, 0, 1, 1, 0, 0, 0, 4, 3, 0, 1, 2, 1, 2], dtype=int32)"
      ]
     },
     "execution_count": 456,
     "metadata": {},
     "output_type": "execute_result"
    }
   ],
   "source": [
    "gs.best_estimator_.labels_"
   ]
  },
  {
   "cell_type": "code",
   "execution_count": 457,
   "metadata": {},
   "outputs": [
    {
     "data": {
      "text/plain": [
       "{'n_clusters': 5}"
      ]
     },
     "execution_count": 457,
     "metadata": {},
     "output_type": "execute_result"
    }
   ],
   "source": [
    "gs.best_params_"
   ]
  },
  {
   "cell_type": "code",
   "execution_count": 458,
   "metadata": {},
   "outputs": [
    {
     "data": {
      "text/plain": [
       "0.152658489740792"
      ]
     },
     "execution_count": 458,
     "metadata": {},
     "output_type": "execute_result"
    }
   ],
   "source": [
    "silhouette_score(nhood_categories_scaled, gs.best_estimator_.labels_)"
   ]
  },
  {
   "cell_type": "markdown",
   "metadata": {},
   "source": [
    "#### DBSCAN"
   ]
  },
  {
   "cell_type": "code",
   "execution_count": 459,
   "metadata": {
    "scrolled": true
   },
   "outputs": [
    {
     "data": {
      "application/vnd.jupyter.widget-view+json": {
       "model_id": "4d375d66ba684642a9f92c89d01d0c8e",
       "version_major": 2,
       "version_minor": 0
      },
      "text/plain": [
       "HBox(children=(IntProgress(value=0, max=10), HTML(value='')))"
      ]
     },
     "metadata": {},
     "output_type": "display_data"
    },
    {
     "name": "stdout",
     "output_type": "stream",
     "text": [
      "\n"
     ]
    }
   ],
   "source": [
    "scores = []\n",
    "counter = 0\n",
    "bp = {\n",
    "    'eps': 1e9,\n",
    "    'min_samples': 1e9,\n",
    "    'sil_score': -2\n",
    "} # best params\n",
    "\n",
    "for eps in tqdm(np.logspace(-1, 1, 10)):\n",
    "    for min_samples in range(2, 11):\n",
    "        for metric in ['euclidean', 'chebyshev', 'manhattan']:\n",
    "            counter += 1\n",
    "            dbscan = DBSCAN(eps, min_samples, metric)\n",
    "            dbscan.fit(nhood_categories_scaled)\n",
    "            try:\n",
    "                sil_score = silhouette_score(nhood_categories_scaled, dbscan.labels_)\n",
    "            except ValueError:\n",
    "                sil_score = -1.01\n",
    "            \n",
    "            r = dbscan.get_params() # results\n",
    "            r['sil_score'] = sil_score\n",
    "            r['iteration'] = counter\n",
    "            r['labels'] = dbscan.labels_\n",
    "            scores.append(r)\n",
    "            \n",
    "            if r['sil_score'] > bp['sil_score'] and len(set(r['labels'])) > 2:\n",
    "                bp = r.copy()\n",
    "            elif np.isclose(r['sil_score'], bp['sil_score']):\n",
    "                if r['eps'] < bp['eps'] or r['min_samples'] < bp['min_samples']:\n",
    "                    bp = r.copy()"
   ]
  },
  {
   "cell_type": "code",
   "execution_count": 460,
   "metadata": {},
   "outputs": [
    {
     "data": {
      "image/png": "[encoded data removed]",
      "text/plain": [
       "<Figure size 432x288 with 1 Axes>"
      ]
     },
     "metadata": {
      "needs_background": "light"
     },
     "output_type": "display_data"
    }
   ],
   "source": [
    "df_dbscan = pd.DataFrame(scores)\n",
    "df_dbscan['sil_score'].sort_values(ascending=False).reset_index(drop=True).plot(xticks=[]);"
   ]
  },
  {
   "cell_type": "code",
   "execution_count": 466,
   "metadata": {},
   "outputs": [
    {
     "data": {
      "text/plain": [
       "sil_score\n",
       "-1.010000    0.792593\n",
       "-0.008642    0.003704\n",
       " 0.002960    0.003704\n",
       " 0.022188    0.003704\n",
       " 0.023042    0.003704\n",
       " 0.029890    0.007407\n",
       " 0.031604    0.007407\n",
       " 0.040857    0.007407\n",
       " 0.045749    0.011111\n",
       " 0.076021    0.003704\n",
       " 0.083479    0.014815\n",
       " 0.087429    0.007407\n",
       " 0.098402    0.003704\n",
       " 0.101897    0.003704\n",
       " 0.112070    0.011111\n",
       " 0.113387    0.007407\n",
       " 0.125559    0.003704\n",
       " 0.127997    0.007407\n",
       " 0.135631    0.003704\n",
       " 0.136606    0.003704\n",
       " 0.137951    0.011111\n",
       " 0.140494    0.003704\n",
       " 0.141635    0.003704\n",
       " 0.142209    0.003704\n",
       " 0.205882    0.066667\n",
       "Name: iteration, dtype: float64"
      ]
     },
     "execution_count": 466,
     "metadata": {},
     "output_type": "execute_result"
    }
   ],
   "source": [
    "score_dist = df_dbscan.groupby('sil_score').count()['iteration']\n",
    "score_dist/sum(score_dist)"
   ]
  },
  {
   "cell_type": "code",
   "execution_count": 461,
   "metadata": {},
   "outputs": [
    {
     "data": {
      "text/plain": [
       "{'algorithm': 'auto',\n",
       " 'eps': 0.774263682681127,\n",
       " 'leaf_size': 30,\n",
       " 'metric': 'euclidean',\n",
       " 'metric_params': None,\n",
       " 'min_samples': 8,\n",
       " 'n_jobs': None,\n",
       " 'p': None,\n",
       " 'sil_score': 0.14220879148552454,\n",
       " 'iteration': 127,\n",
       " 'labels': array([ 1,  0,  0,  1, -1, -1,  1, -1, -1,  0,  1,  0,  1, -1, -1,  0,  0,\n",
       "        -1,  0, -1, -1,  1, -1,  0,  0, -1,  0,  1,  1, -1,  0, -1,  0, -1,\n",
       "        -1,  1, -1,  1, -1])}"
      ]
     },
     "execution_count": 461,
     "metadata": {},
     "output_type": "execute_result"
    }
   ],
   "source": [
    "bp"
   ]
  },
  {
   "cell_type": "markdown",
   "metadata": {},
   "source": [
    "----"
   ]
  }
 ],
 "metadata": {
  "kernelspec": {
   "display_name": "Python 3",
   "language": "python",
   "name": "python3"
  },
  "language_info": {
   "codemirror_mode": {
    "name": "ipython",
    "version": 3
   },
   "file_extension": ".py",
   "mimetype": "text/x-python",
   "name": "python",
   "nbconvert_exporter": "python",
   "pygments_lexer": "ipython3",
   "version": "3.7.3"
  },
  "toc": {
   "base_numbering": 1,
   "nav_menu": {},
   "number_sections": false,
   "sideBar": true,
   "skip_h1_title": true,
   "title_cell": "Table of Contents",
   "title_sidebar": "Contents",
   "toc_cell": true,
   "toc_position": {
    "height": "calc(100% - 180px)",
    "left": "10px",
    "top": "150px",
    "width": "316px"
   },
   "toc_section_display": true,
   "toc_window_display": true
  },
  "varInspector": {
   "cols": {
    "lenName": 16,
    "lenType": 16,
    "lenVar": 40
   },
   "kernels_config": {
    "python": {
     "delete_cmd_postfix": "",
     "delete_cmd_prefix": "del ",
     "library": "var_list.py",
     "varRefreshCmd": "print(var_dic_list())"
    },
    "r": {
     "delete_cmd_postfix": ") ",
     "delete_cmd_prefix": "rm(",
     "library": "var_list.r",
     "varRefreshCmd": "cat(var_dic_list()) "
    }
   },
   "types_to_exclude": [
    "module",
    "function",
    "builtin_function_or_method",
    "instance",
    "_Feature"
   ],
   "window_display": false
  }
 },
 "nbformat": 4,
 "nbformat_minor": 2
}
